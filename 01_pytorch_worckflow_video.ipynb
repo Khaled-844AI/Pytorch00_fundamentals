{
  "nbformat": 4,
  "nbformat_minor": 0,
  "metadata": {
    "colab": {
      "provenance": [],
      "authorship_tag": "ABX9TyMP7GNmjnvBtspcRT4krPIA",
      "include_colab_link": true
    },
    "kernelspec": {
      "name": "python3",
      "display_name": "Python 3"
    },
    "language_info": {
      "name": "python"
    },
    "accelerator": "GPU",
    "gpuClass": "standard"
  },
  "cells": [
    {
      "cell_type": "markdown",
      "metadata": {
        "id": "view-in-github",
        "colab_type": "text"
      },
      "source": [
        "<a href=\"https://colab.research.google.com/github/Khaled-844AI/Pytorch00_fundamentals/blob/main/01_pytorch_worckflow_video.ipynb\" target=\"_parent\"><img src=\"https://colab.research.google.com/assets/colab-badge.svg\" alt=\"Open In Colab\"/></a>"
      ]
    },
    {
      "cell_type": "code",
      "execution_count": 150,
      "metadata": {
        "id": "m34oJaIQ7c5A"
      },
      "outputs": [],
      "source": [
        "# pytorch worckflow\n",
        "\n",
        "\n",
        "what_we_are_covering = {1:\"data (prepare and load)\",\n",
        "                        2:\"build model\",\n",
        "                        3:\"fitting the model to data (trainning)\",\n",
        "                        4:\"Mkaking predictions and evaluating a model (inference)\",\n",
        "                        5:\"save and load a model\"}"
      ]
    },
    {
      "cell_type": "code",
      "source": [
        "import torch\n",
        "from torch import nn # nn contains all of pytorch s building blocks for neural networcks\n",
        "import matplotlib.pyplot as plt\n",
        "\n",
        "# Check pytorch version\n",
        "\n",
        "torch.__version__"
      ],
      "metadata": {
        "colab": {
          "base_uri": "https://localhost:8080/",
          "height": 35
        },
        "id": "M5cxf3Hs9WOB",
        "outputId": "70887cdf-ebdd-453e-d398-b2d9d2e77f5d"
      },
      "execution_count": 151,
      "outputs": [
        {
          "output_type": "execute_result",
          "data": {
            "text/plain": [
              "'1.13.1+cu116'"
            ],
            "application/vnd.google.colaboratory.intrinsic+json": {
              "type": "string"
            }
          },
          "metadata": {},
          "execution_count": 151
        }
      ]
    },
    {
      "cell_type": "markdown",
      "source": [
        "# 1.DATA (preparing and loading)\n",
        "\n",
        " -Data can be almost anyting...\n",
        "  * \"Images\"\n",
        "  * \"Excel cheets\"\n",
        "  * \"Videos\"\n",
        "  * \"Audio\"\n",
        "  * \"DNA\""
      ],
      "metadata": {
        "id": "fOU5cIg6-lCc"
      }
    },
    {
      "cell_type": "code",
      "source": [
        "# Create *known* parameters\n",
        "\n",
        "weigth = 0.7\n",
        "bias = 0.3\n",
        "\n",
        "# Create\n",
        "\n",
        "start = 0\n",
        "end = 1\n",
        "step = 0.02\n",
        "X = torch.arange(start,end,step).unsqueeze(dim=1) #input\n",
        "y = X*weigth + bias # output\n",
        "\n",
        "X[:10],y[:10],len(X),len(y)\n"
      ],
      "metadata": {
        "colab": {
          "base_uri": "https://localhost:8080/"
        },
        "id": "Vd0xe2y7-kOk",
        "outputId": "8a2929dd-80ee-4746-876d-73fcbac91ba6"
      },
      "execution_count": 152,
      "outputs": [
        {
          "output_type": "execute_result",
          "data": {
            "text/plain": [
              "(tensor([[0.0000],\n",
              "         [0.0200],\n",
              "         [0.0400],\n",
              "         [0.0600],\n",
              "         [0.0800],\n",
              "         [0.1000],\n",
              "         [0.1200],\n",
              "         [0.1400],\n",
              "         [0.1600],\n",
              "         [0.1800]]),\n",
              " tensor([[0.3000],\n",
              "         [0.3140],\n",
              "         [0.3280],\n",
              "         [0.3420],\n",
              "         [0.3560],\n",
              "         [0.3700],\n",
              "         [0.3840],\n",
              "         [0.3980],\n",
              "         [0.4120],\n",
              "         [0.4260]]),\n",
              " 50,\n",
              " 50)"
            ]
          },
          "metadata": {},
          "execution_count": 152
        }
      ]
    },
    {
      "cell_type": "code",
      "source": [
        "# Create a training test (split)\n",
        "\n",
        "train_split = int(0.8 * len(X))\n",
        "train_split\n",
        "X_train , y_train = X[:train_split] , y[:train_split]\n",
        "X_result , y_result = X[train_split:] , y[train_split:]\n",
        "X_train , y_train , len(X_train) , len(y_train)\n",
        "print(\"X_result\",X_result,len(X_result))\n",
        "print(\"Y_result\",y_result,len(y_result))\n"
      ],
      "metadata": {
        "colab": {
          "base_uri": "https://localhost:8080/"
        },
        "id": "v__xe-WZD4eN",
        "outputId": "431e4a51-c0d2-40b3-a61a-1305918be072"
      },
      "execution_count": 153,
      "outputs": [
        {
          "output_type": "stream",
          "name": "stdout",
          "text": [
            "X_result tensor([[0.8000],\n",
            "        [0.8200],\n",
            "        [0.8400],\n",
            "        [0.8600],\n",
            "        [0.8800],\n",
            "        [0.9000],\n",
            "        [0.9200],\n",
            "        [0.9400],\n",
            "        [0.9600],\n",
            "        [0.9800]]) 10\n",
            "Y_result tensor([[0.8600],\n",
            "        [0.8740],\n",
            "        [0.8880],\n",
            "        [0.9020],\n",
            "        [0.9160],\n",
            "        [0.9300],\n",
            "        [0.9440],\n",
            "        [0.9580],\n",
            "        [0.9720],\n",
            "        [0.9860]]) 10\n"
          ]
        }
      ]
    },
    {
      "cell_type": "code",
      "source": [
        "\n",
        "\n",
        "def plot_predictions(train_data = X_train,\n",
        "                     train_labels = y_train,\n",
        "                     test_data = X_result,\n",
        "                     test_labels = y_result,\n",
        "                     predictions = None):\n",
        "  \n",
        "  \"\"\"\n",
        "  Plots trainning data  , test data and compare predictions\n",
        "  \"\"\"\n",
        "\n",
        "  plt.figure(figsize=(10 , 7))\n",
        "\n",
        "  #plot trainning data in blue\n",
        "  plt.scatter(train_data, train_labels, c=\"b\" , s=4 , label=\"Training data\")\n",
        "\n",
        "  #plot trainning data in green\n",
        "  plt.scatter(test_data, test_labels, c=\"g\" , s=4 , label=\"Testing data\")\n",
        "\n",
        "  #are there a predictions?\n",
        "  if predictions is not None :\n",
        "     #plot the predictions if they exist\n",
        "     plt.scatter(test_data, predictions, c=\"r\" , s=4 , label =\"Predictions\")\n",
        "  \n",
        "\n",
        "  #show the legend\n",
        "  plt.legend(prop={\"size\": 14});\n"
      ],
      "metadata": {
        "id": "VBn4mGqgf5vA"
      },
      "execution_count": 154,
      "outputs": []
    },
    {
      "cell_type": "code",
      "source": [
        "plot_predictions();"
      ],
      "metadata": {
        "colab": {
          "base_uri": "https://localhost:8080/",
          "height": 599
        },
        "id": "wY_coIcum50m",
        "outputId": "6aa64284-230c-4a15-de32-34f949e5f2e1"
      },
      "execution_count": 155,
      "outputs": [
        {
          "output_type": "display_data",
          "data": {
            "text/plain": [
              "<Figure size 1000x700 with 1 Axes>"
            ],
            "image/png": "[encoded data removed]"
          },
          "metadata": {}
        }
      ]
    },
    {
      "cell_type": "code",
      "source": [
        "# first pytorch model\n",
        "\n",
        "# Create a linear regression model\n",
        "class Linear_regression_model(nn.Module): #almost everything enherits from pytorch nn.Module\n",
        "  def __init__(self):\n",
        "    super().__init__()\n",
        "    self.weigths = nn.Parameter(torch.randn(1,\n",
        "                                           requires_grad = True,\n",
        "                                           dtype=torch.float))\n",
        "    self.bias = nn.Parameter(torch.randn(1,\n",
        "                                   requires_grad=True,\n",
        "                                   dtype = torch.float))\n",
        "# Forward method to define the computation in the model\n",
        "  def forward(self, x: torch.Tensor) -> torch.Tensor: # 'x' is the input\n",
        "        return self.weigths * x + self.bias\n",
        "\n",
        "        model_0.state_dict()"
      ],
      "metadata": {
        "id": "qzFtKiMzMu_D"
      },
      "execution_count": 156,
      "outputs": []
    },
    {
      "cell_type": "markdown",
      "source": [
        "# 1.Gradiant Descent\n",
        "# 2.Backpropegation"
      ],
      "metadata": {
        "id": "G-EcWD4Ug7_A"
      }
    },
    {
      "cell_type": "markdown",
      "source": [
        "# Pytorch model building essentials\n",
        "\n",
        "    1.torch.nn ->contains all of the buildings for computational graphs(another word for neural networcks)\n",
        "    2.torch.nn.paramater -> what parameters should our model try and learn often a pytorch layer will set these for us.\n",
        "    3.torch.nn.module -> the base class for all neural networcks modules , \" if you subclass it you should write forward\"\n",
        "    4.torch.optim -> this were the optimizers in Pytorch live,they will help with gradient descent\n",
        "    5. def forward() -> all nn.Module subclasses require you to overwrite forward()"
      ],
      "metadata": {
        "id": "bVolBCalySjD"
      }
    },
    {
      "cell_type": "code",
      "source": [
        "# Now we created our model let s see what s inside it\n",
        "# we are gonna creat a random seed \n",
        "\n",
        "torch.manual_seed(40)\n",
        "# we r gonna creat an instance for the model(subclass of nn.module)\n",
        "\n",
        "model_0 = Linear_regression_model()\n",
        "# check out the parameters\n",
        "list(model_0.parameters())\n",
        " "
      ],
      "metadata": {
        "colab": {
          "base_uri": "https://localhost:8080/"
        },
        "id": "TXUkQd8G2JUf",
        "outputId": "006d5551-49a2-491f-c93b-08e4d8f81041"
      },
      "execution_count": 157,
      "outputs": [
        {
          "output_type": "execute_result",
          "data": {
            "text/plain": [
              "[Parameter containing:\n",
              " tensor([0.9307], requires_grad=True),\n",
              " Parameter containing:\n",
              " tensor([-0.3482], requires_grad=True)]"
            ]
          },
          "metadata": {},
          "execution_count": 157
        }
      ]
    },
    {
      "cell_type": "code",
      "source": [
        "# list named parameters \n",
        "model_0.state_dict()"
      ],
      "metadata": {
        "colab": {
          "base_uri": "https://localhost:8080/"
        },
        "id": "8hVonZ3l7al1",
        "outputId": "772d27fc-9688-47ea-f049-8183f712af37"
      },
      "execution_count": 158,
      "outputs": [
        {
          "output_type": "execute_result",
          "data": {
            "text/plain": [
              "OrderedDict([('weigths', tensor([0.9307])), ('bias', tensor([-0.3482]))])"
            ]
          },
          "metadata": {},
          "execution_count": 158
        }
      ]
    },
    {
      "cell_type": "code",
      "source": [
        "weigth , bias # we need our model to delete the randomness and look at the actual weigth and bias"
      ],
      "metadata": {
        "colab": {
          "base_uri": "https://localhost:8080/"
        },
        "id": "pDdzHHb171rD",
        "outputId": "de76be38-c31a-44a3-9b7b-2c998e5eb37e"
      },
      "execution_count": 159,
      "outputs": [
        {
          "output_type": "execute_result",
          "data": {
            "text/plain": [
              "(0.7, 0.3)"
            ]
          },
          "metadata": {},
          "execution_count": 159
        }
      ]
    },
    {
      "cell_type": "code",
      "source": [
        "X_result , y_result"
      ],
      "metadata": {
        "colab": {
          "base_uri": "https://localhost:8080/"
        },
        "id": "WEGZcbRF-Pqs",
        "outputId": "8c08aea9-a8be-4a13-dcaa-eaa2425d0ff3"
      },
      "execution_count": 160,
      "outputs": [
        {
          "output_type": "execute_result",
          "data": {
            "text/plain": [
              "(tensor([[0.8000],\n",
              "         [0.8200],\n",
              "         [0.8400],\n",
              "         [0.8600],\n",
              "         [0.8800],\n",
              "         [0.9000],\n",
              "         [0.9200],\n",
              "         [0.9400],\n",
              "         [0.9600],\n",
              "         [0.9800]]),\n",
              " tensor([[0.8600],\n",
              "         [0.8740],\n",
              "         [0.8880],\n",
              "         [0.9020],\n",
              "         [0.9160],\n",
              "         [0.9300],\n",
              "         [0.9440],\n",
              "         [0.9580],\n",
              "         [0.9720],\n",
              "         [0.9860]]))"
            ]
          },
          "metadata": {},
          "execution_count": 160
        }
      ]
    },
    {
      "cell_type": "code",
      "source": [
        "# make predictions with model\n",
        "with torch.inference_mode():\n",
        "  y_preds = model_0(X_result)\n",
        "\n",
        "y_preds"
      ],
      "metadata": {
        "colab": {
          "base_uri": "https://localhost:8080/"
        },
        "id": "52r0ER0J9uTR",
        "outputId": "91d8ad33-128f-453c-8146-a645996f0d5e"
      },
      "execution_count": 161,
      "outputs": [
        {
          "output_type": "execute_result",
          "data": {
            "text/plain": [
              "tensor([[0.3964],\n",
              "        [0.4150],\n",
              "        [0.4336],\n",
              "        [0.4522],\n",
              "        [0.4709],\n",
              "        [0.4895],\n",
              "        [0.5081],\n",
              "        [0.5267],\n",
              "        [0.5453],\n",
              "        [0.5639]])"
            ]
          },
          "metadata": {},
          "execution_count": 161
        }
      ]
    },
    {
      "cell_type": "code",
      "source": [
        "plot_predictions(predictions=y_preds)"
      ],
      "metadata": {
        "colab": {
          "base_uri": "https://localhost:8080/",
          "height": 599
        },
        "id": "rlvgpvINA2hq",
        "outputId": "e1957acc-7585-4555-b4da-d6192e4c2c97"
      },
      "execution_count": 162,
      "outputs": [
        {
          "output_type": "display_data",
          "data": {
            "text/plain": [
              "<Figure size 1000x700 with 1 Axes>"
            ],
            "image/png": "[encoded data removed]"
          },
          "metadata": {}
        }
      ]
    },
    {
      "cell_type": "markdown",
      "source": [
        " *One way to measure how poor the representation is is by using the loss function"
      ],
      "metadata": {
        "id": "4m9LXl_tJHH_"
      }
    },
    {
      "cell_type": "markdown",
      "source": [],
      "metadata": {
        "id": "lmGnbqbEzlKW"
      }
    },
    {
      "cell_type": "code",
      "source": [
        "# setup a loss function for a better predictions\n",
        "loss_fn = nn.L1Loss()\n",
        "\n",
        "# setup an optimizer \" to minmize the distance between the predictions and the results \"\n",
        "optimizer = torch.optim.SGD(params = model_0.parameters(),\n",
        "                            lr = 0.01) # lr mens learning rate\n",
        "\n",
        "# Build a training loop in pytorch and ( a testing loop )\n",
        "epochs = 200\n",
        "\n",
        "epoch_count = []\n",
        "loss_values = []\n",
        "test_loss_values = []\n",
        "\n",
        "# Training\n",
        "# first an epoch is one loop through the data...\n",
        "for epoch in range(epochs) :\n",
        "  # Set the model to trainning mode\n",
        "   model_0.train() # train mode sets all parameters  that require gradients to require gradients\n",
        "   model_0.eval() # turns off gradiant tracking\n",
        "\n",
        "   # forward method\n",
        "   y_pred = model_0(X_train)\n",
        "\n",
        "   # Calculate the loss\n",
        "   loss = loss_fn(y_pred , y_train)\n",
        "\n",
        "\n",
        "   # Optimizer zero grad\n",
        "   optimizer.zero_grad()\n",
        "\n",
        "   # Perform the backprobegation on the loss with respect to the model parameters\n",
        "   loss.backward()\n",
        "\n",
        "   # Step the optimizer (perform gradiant descent)\n",
        "   optimizer.step()\n",
        "\n",
        "  # Testing \n",
        "   model_0.eval() # turns of some not needed process\n",
        "   with torch.inference_mode():\n",
        "     # Do the forward pass\n",
        "      test_pred = model_0(X_result)\n",
        "\n",
        "      # Calculate the loss\n",
        "      test_loss = loss_fn(test_pred , y_result)\n",
        "\n",
        "      if epoch % 10 == 0:\n",
        "        epoch_count.append(epoch)\n",
        "        loss_values.append(loss)\n",
        "        test_loss_values.append(test_loss)\n",
        "        print(f\"Epoch : {epoch} | Test : {loss} | Test loss : {test_loss} \")\n",
        "        print(model_0.state_dict())\n"
      ],
      "metadata": {
        "id": "vt496vy63390",
        "colab": {
          "base_uri": "https://localhost:8080/"
        },
        "outputId": "e11cccf7-4d58-4fe0-8de5-9c1ff4de03d9"
      },
      "execution_count": 163,
      "outputs": [
        {
          "output_type": "stream",
          "name": "stdout",
          "text": [
            "Epoch : 0 | Test : 0.5581926107406616 | Test loss : 0.4293646216392517 \n",
            "OrderedDict([('weigths', tensor([0.9346])), ('bias', tensor([-0.3382]))])\n",
            "Epoch : 10 | Test : 0.4429827630519867 | Test loss : 0.29465484619140625 \n",
            "OrderedDict([('weigths', tensor([0.9736])), ('bias', tensor([-0.2382]))])\n",
            "Epoch : 20 | Test : 0.3277726471424103 | Test loss : 0.15994469821453094 \n",
            "OrderedDict([('weigths', tensor([1.0126])), ('bias', tensor([-0.1382]))])\n",
            "Epoch : 30 | Test : 0.2125624716281891 | Test loss : 0.026516448706388474 \n",
            "OrderedDict([('weigths', tensor([1.0516])), ('bias', tensor([-0.0382]))])\n",
            "Epoch : 40 | Test : 0.11256273835897446 | Test loss : 0.09451305121183395 \n",
            "OrderedDict([('weigths', tensor([1.0839])), ('bias', tensor([0.0528]))])\n",
            "Epoch : 50 | Test : 0.08638741075992584 | Test loss : 0.14412939548492432 \n",
            "OrderedDict([('weigths', tensor([1.0869])), ('bias', tensor([0.0998]))])\n",
            "Epoch : 60 | Test : 0.07864297181367874 | Test loss : 0.16114583611488342 \n",
            "OrderedDict([('weigths', tensor([1.0779])), ('bias', tensor([0.1248]))])\n",
            "Epoch : 70 | Test : 0.07428815215826035 | Test loss : 0.16465787589550018 \n",
            "OrderedDict([('weigths', tensor([1.0644])), ('bias', tensor([0.1403]))])\n",
            "Epoch : 80 | Test : 0.07073372602462769 | Test loss : 0.16050679981708527 \n",
            "OrderedDict([('weigths', tensor([1.0485])), ('bias', tensor([0.1503]))])\n",
            "Epoch : 90 | Test : 0.06720560044050217 | Test loss : 0.15635566413402557 \n",
            "OrderedDict([('weigths', tensor([1.0326])), ('bias', tensor([0.1603]))])\n",
            "Epoch : 100 | Test : 0.06376437842845917 | Test loss : 0.14808347821235657 \n",
            "OrderedDict([('weigths', tensor([1.0155])), ('bias', tensor([0.1673]))])\n",
            "Epoch : 110 | Test : 0.06033219024538994 | Test loss : 0.14049820601940155 \n",
            "OrderedDict([('weigths', tensor([0.9985])), ('bias', tensor([0.1748]))])\n",
            "Epoch : 120 | Test : 0.056899625808000565 | Test loss : 0.13222572207450867 \n",
            "OrderedDict([('weigths', tensor([0.9813])), ('bias', tensor([0.1818]))])\n",
            "Epoch : 130 | Test : 0.05346081405878067 | Test loss : 0.12395322322845459 \n",
            "OrderedDict([('weigths', tensor([0.9642])), ('bias', tensor([0.1888]))])\n",
            "Epoch : 140 | Test : 0.050030242651700974 | Test loss : 0.1163676530122757 \n",
            "OrderedDict([('weigths', tensor([0.9472])), ('bias', tensor([0.1963]))])\n",
            "Epoch : 150 | Test : 0.04659599810838699 | Test loss : 0.10809516906738281 \n",
            "OrderedDict([('weigths', tensor([0.9301])), ('bias', tensor([0.2033]))])\n",
            "Epoch : 160 | Test : 0.043157193809747696 | Test loss : 0.09982268512248993 \n",
            "OrderedDict([('weigths', tensor([0.9129])), ('bias', tensor([0.2103]))])\n",
            "Epoch : 170 | Test : 0.039728306233882904 | Test loss : 0.09223710000514984 \n",
            "OrderedDict([('weigths', tensor([0.8960])), ('bias', tensor([0.2178]))])\n",
            "Epoch : 180 | Test : 0.036292366683483124 | Test loss : 0.08396460115909576 \n",
            "OrderedDict([('weigths', tensor([0.8788])), ('bias', tensor([0.2248]))])\n",
            "Epoch : 190 | Test : 0.03285479545593262 | Test loss : 0.07637904584407806 \n",
            "OrderedDict([('weigths', tensor([0.8619])), ('bias', tensor([0.2323]))])\n"
          ]
        }
      ]
    },
    {
      "cell_type": "code",
      "source": [
        "with torch.inference_mode():\n",
        "  ypreds_new = model_0(X_result)"
      ],
      "metadata": {
        "id": "pJzdOynB_c_f"
      },
      "execution_count": 164,
      "outputs": []
    },
    {
      "cell_type": "code",
      "source": [
        "plot_predictions(predictions = ypreds_new)"
      ],
      "metadata": {
        "colab": {
          "base_uri": "https://localhost:8080/",
          "height": 601
        },
        "id": "LIqQgFCACkw0",
        "outputId": "148c5326-4c8f-4899-9035-035ccd030d65"
      },
      "execution_count": 165,
      "outputs": [
        {
          "output_type": "display_data",
          "data": {
            "text/plain": [
              "<Figure size 1000x700 with 1 Axes>"
            ],
            "image/png": "[encoded data removed]"
          },
          "metadata": {}
        }
      ]
    },
    {
      "cell_type": "code",
      "source": [
        "import numpy as np\n",
        "np.array(torch.tensor(loss_values).numpy())"
      ],
      "metadata": {
        "colab": {
          "base_uri": "https://localhost:8080/"
        },
        "id": "V4rBuaQcK8ad",
        "outputId": "ccd33317-7c4e-49b9-b2ff-1430fb39423d"
      },
      "execution_count": 166,
      "outputs": [
        {
          "output_type": "execute_result",
          "data": {
            "text/plain": [
              "array([0.5581926 , 0.44298276, 0.32777265, 0.21256247, 0.11256274,\n",
              "       0.08638741, 0.07864297, 0.07428815, 0.07073373, 0.0672056 ,\n",
              "       0.06376438, 0.06033219, 0.05689963, 0.05346081, 0.05003024,\n",
              "       0.046596  , 0.04315719, 0.03972831, 0.03629237, 0.0328548 ],\n",
              "      dtype=float32)"
            ]
          },
          "metadata": {},
          "execution_count": 166
        }
      ]
    },
    {
      "cell_type": "code",
      "source": [
        "plt.plot(epoch_count,np.array(torch.tensor(loss_values).numpy()), label = \"Train loss\")\n",
        "plt.plot(epoch_count, test_loss_values, label = \"Test loss\")\n",
        "plt.title(\"Training and test loss curves\")\n",
        "plt.xlabel(\"epochs\")\n",
        "plt.ylabel(\"loss\")\n",
        "plt.legend();"
      ],
      "metadata": {
        "colab": {
          "base_uri": "https://localhost:8080/",
          "height": 472
        },
        "id": "zxMQgwNjLLpc",
        "outputId": "3c842519-0b1c-49a0-e615-2e146b2578c6"
      },
      "execution_count": 167,
      "outputs": [
        {
          "output_type": "display_data",
          "data": {
            "text/plain": [
              "<Figure size 640x480 with 1 Axes>"
            ],
            "image/png": "[encoded data removed]"
          },
          "metadata": {}
        }
      ]
    },
    {
      "cell_type": "markdown",
      "source": [
        "# Saving a model in Pytorch\n",
        "\n",
        "  - there are three metods for saving and loading models :\n",
        "\n",
        "1.   'torch.save()' - to save pytorch  object in python pickle format\n",
        "2.   'torch.load()' - to load a saved pytorch object\n",
        "3.   'torch.Module.nn.load_state_dict()' - to load a model saved state dictionary\n"
      ],
      "metadata": {
        "id": "9JA2YIAlFq9E"
      }
    },
    {
      "cell_type": "code",
      "source": [
        "model_0.state_dict()"
      ],
      "metadata": {
        "colab": {
          "base_uri": "https://localhost:8080/"
        },
        "id": "ij7V7bqbFuPD",
        "outputId": "407c024f-0e57-4c6f-fbf6-b8622ed8a11a"
      },
      "execution_count": 168,
      "outputs": [
        {
          "output_type": "execute_result",
          "data": {
            "text/plain": [
              "OrderedDict([('weigths', tensor([0.8463])), ('bias', tensor([0.2383]))])"
            ]
          },
          "metadata": {},
          "execution_count": 168
        }
      ]
    },
    {
      "cell_type": "code",
      "source": [
        "# saving a model\n",
        "from pathlib import Path\n",
        "\n",
        "# 1. Create a model directory\n",
        "\n",
        "Model_Path = Path(\"Models\")\n",
        "Model_Path.mkdir(parents = True , exist_ok = True)\n",
        "\n",
        "# 2. model save path\n",
        "\n",
        "Model_name = \"B13.pth\"\n",
        "\n",
        "Model_save_path = Model_Path / Model_name\n",
        "\n",
        "# 3. Save the model state dict\n",
        "\n",
        "torch.save(obj = model_0.state_dict(),\n",
        "           f=Model_save_path)"
      ],
      "metadata": {
        "id": "7VmooTSsIm_Z"
      },
      "execution_count": 169,
      "outputs": []
    },
    {
      "cell_type": "code",
      "source": [
        "!ls -l Models"
      ],
      "metadata": {
        "colab": {
          "base_uri": "https://localhost:8080/"
        },
        "id": "axxf8oKLLN6A",
        "outputId": "67ac4119-3485-4f75-e9d6-4b6d39df6a60"
      },
      "execution_count": 170,
      "outputs": [
        {
          "output_type": "stream",
          "name": "stdout",
          "text": [
            "total 8\n",
            "-rw-r--r-- 1 root root  983 Mar 29 21:39 B13.pth\n",
            "-rw-r--r-- 1 root root 1047 Mar 29 21:27 MD1.pth\n"
          ]
        }
      ]
    },
    {
      "cell_type": "markdown",
      "source": [
        "# Loading a pytorch Model"
      ],
      "metadata": {
        "id": "CbLinWVjLcUU"
      }
    },
    {
      "cell_type": "code",
      "source": [
        "# to load in a saved state_dict() we have to instantiate a new instance of our model class\n",
        "loaded_model_0 = Linear_regression_model()\n",
        "\n",
        "# load the saved state_dict of model_0(updating the new instance)\n",
        "loaded_model_0.load_state_dict(torch.load(f=Model_save_path))"
      ],
      "metadata": {
        "colab": {
          "base_uri": "https://localhost:8080/"
        },
        "id": "P5OXJmA7LgMu",
        "outputId": "070efbf0-d3dc-490d-a0b1-25a8921bc86f"
      },
      "execution_count": 171,
      "outputs": [
        {
          "output_type": "execute_result",
          "data": {
            "text/plain": [
              "<All keys matched successfully>"
            ]
          },
          "metadata": {},
          "execution_count": 171
        }
      ]
    },
    {
      "cell_type": "code",
      "source": [
        "loaded_model_0.state_dict()"
      ],
      "metadata": {
        "colab": {
          "base_uri": "https://localhost:8080/"
        },
        "id": "_OAQZiZPNlSp",
        "outputId": "d6d8b92d-e891-4854-8915-08f595f1914e"
      },
      "execution_count": 172,
      "outputs": [
        {
          "output_type": "execute_result",
          "data": {
            "text/plain": [
              "OrderedDict([('weigths', tensor([0.8463])), ('bias', tensor([0.2383]))])"
            ]
          },
          "metadata": {},
          "execution_count": 172
        }
      ]
    },
    {
      "cell_type": "code",
      "source": [
        "# Make some predictions with our loaded model to see\n",
        "\n",
        "loaded_model_0.eval()\n",
        "with torch.inference_mode():\n",
        "  loaded_model_preds = loaded_model_0(X_result)\n",
        "\n",
        "loaded_model_preds"
      ],
      "metadata": {
        "colab": {
          "base_uri": "https://localhost:8080/"
        },
        "id": "-hD9-JFoNvIH",
        "outputId": "46bf2c8d-35de-4775-8763-03819bc98936"
      },
      "execution_count": 173,
      "outputs": [
        {
          "output_type": "execute_result",
          "data": {
            "text/plain": [
              "tensor([[0.9154],\n",
              "        [0.9323],\n",
              "        [0.9492],\n",
              "        [0.9661],\n",
              "        [0.9831],\n",
              "        [1.0000],\n",
              "        [1.0169],\n",
              "        [1.0338],\n",
              "        [1.0508],\n",
              "        [1.0677]])"
            ]
          },
          "metadata": {},
          "execution_count": 173
        }
      ]
    },
    {
      "cell_type": "code",
      "source": [
        "model_0.eval()\n",
        "with torch.inference_mode():\n",
        "  y_preds = model_0(X_result)\n",
        "\n",
        "y_preds"
      ],
      "metadata": {
        "colab": {
          "base_uri": "https://localhost:8080/"
        },
        "id": "PVkF-1GAO6BN",
        "outputId": "bbf066a2-6bc7-47ac-a630-1a68b487406e"
      },
      "execution_count": 174,
      "outputs": [
        {
          "output_type": "execute_result",
          "data": {
            "text/plain": [
              "tensor([[0.9154],\n",
              "        [0.9323],\n",
              "        [0.9492],\n",
              "        [0.9661],\n",
              "        [0.9831],\n",
              "        [1.0000],\n",
              "        [1.0169],\n",
              "        [1.0338],\n",
              "        [1.0508],\n",
              "        [1.0677]])"
            ]
          },
          "metadata": {},
          "execution_count": 174
        }
      ]
    },
    {
      "cell_type": "code",
      "source": [
        "# compare the loaded model with original\n",
        "y_preds == loaded_model_preds"
      ],
      "metadata": {
        "colab": {
          "base_uri": "https://localhost:8080/"
        },
        "id": "uk5FoGWsOcR4",
        "outputId": "735bfcb0-d826-4bc4-f483-344f5d9fdc16"
      },
      "execution_count": 175,
      "outputs": [
        {
          "output_type": "execute_result",
          "data": {
            "text/plain": [
              "tensor([[True],\n",
              "        [True],\n",
              "        [True],\n",
              "        [True],\n",
              "        [True],\n",
              "        [True],\n",
              "        [True],\n",
              "        [True],\n",
              "        [True],\n",
              "        [True]])"
            ]
          },
          "metadata": {},
          "execution_count": 175
        }
      ]
    },
    {
      "cell_type": "code",
      "source": [
        "# Practicing\n",
        "import torch \n",
        "from torch import nn\n",
        "\n",
        "torch.__version__"
      ],
      "metadata": {
        "colab": {
          "base_uri": "https://localhost:8080/",
          "height": 35
        },
        "id": "DOP7dxt5PrTs",
        "outputId": "8784eef1-666b-48d3-87f4-f9314e98fbfe"
      },
      "execution_count": 176,
      "outputs": [
        {
          "output_type": "execute_result",
          "data": {
            "text/plain": [
              "'1.13.1+cu116'"
            ],
            "application/vnd.google.colaboratory.intrinsic+json": {
              "type": "string"
            }
          },
          "metadata": {},
          "execution_count": 176
        }
      ]
    },
    {
      "cell_type": "code",
      "source": [
        "device = \"cuda\" if torch.cuda.is_available() else \"cpu\"\n",
        "print(f\"Device == {device}\")"
      ],
      "metadata": {
        "colab": {
          "base_uri": "https://localhost:8080/"
        },
        "id": "9kOrONqARaZk",
        "outputId": "591154f5-ed3a-459d-ed45-962e21ab5c51"
      },
      "execution_count": 177,
      "outputs": [
        {
          "output_type": "stream",
          "name": "stdout",
          "text": [
            "Device == cuda\n"
          ]
        }
      ]
    },
    {
      "cell_type": "code",
      "source": [
        "# Creating some data using linear regression formula\n",
        "\n",
        "Weigth = 0.6\n",
        "Bias = 0.2\n",
        "\n",
        "start = 0\n",
        "end = 1\n",
        "step = 0.02\n",
        "\n",
        "X = torch.arange(start,end,step).unsqueeze(dim=1)\n",
        "\n",
        "Y = Weigth * X + Bias\n",
        "\n",
        "X[:10] , Y[:10]\n"
      ],
      "metadata": {
        "colab": {
          "base_uri": "https://localhost:8080/"
        },
        "id": "vhMJuqY0R34-",
        "outputId": "02b87f24-9472-45ca-e90a-d0273791f94d"
      },
      "execution_count": 178,
      "outputs": [
        {
          "output_type": "execute_result",
          "data": {
            "text/plain": [
              "(tensor([[0.0000],\n",
              "         [0.0200],\n",
              "         [0.0400],\n",
              "         [0.0600],\n",
              "         [0.0800],\n",
              "         [0.1000],\n",
              "         [0.1200],\n",
              "         [0.1400],\n",
              "         [0.1600],\n",
              "         [0.1800]]),\n",
              " tensor([[0.2000],\n",
              "         [0.2120],\n",
              "         [0.2240],\n",
              "         [0.2360],\n",
              "         [0.2480],\n",
              "         [0.2600],\n",
              "         [0.2720],\n",
              "         [0.2840],\n",
              "         [0.2960],\n",
              "         [0.3080]]))"
            ]
          },
          "metadata": {},
          "execution_count": 178
        }
      ]
    },
    {
      "cell_type": "code",
      "source": [
        "3 # splitting the data\n",
        "split = int(0.8 * len(X))\n",
        "\n",
        "X_train2 , Y_train2 = X[:split] , Y[:split]\n",
        "X_test2 , Y_test2 = X[split:] , Y[split:]\n",
        "\n"
      ],
      "metadata": {
        "id": "vaQJSTCiBNga"
      },
      "execution_count": 179,
      "outputs": []
    },
    {
      "cell_type": "code",
      "source": [
        "plot_predictions(X_train2,Y_train2,X_test2,Y_test2)"
      ],
      "metadata": {
        "colab": {
          "base_uri": "https://localhost:8080/",
          "height": 599
        },
        "id": "MxIqu6J64W44",
        "outputId": "03f02821-2539-4c5b-e33d-89d71b6ee380"
      },
      "execution_count": 180,
      "outputs": [
        {
          "output_type": "display_data",
          "data": {
            "text/plain": [
              "<Figure size 1000x700 with 1 Axes>"
            ],
            "image/png": "[encoded data removed]"
          },
          "metadata": {}
        }
      ]
    },
    {
      "cell_type": "code",
      "source": [
        "# Subclass nn.Module to make our model\n",
        "class LinearRegressionModelV2(nn.Module):\n",
        "    def __init__(self):\n",
        "        super().__init__()\n",
        "        # Use nn.Linear() for creating the model parameters\n",
        "        self.linear_layer = nn.Linear(in_features=1, \n",
        "                                      out_features=1)\n",
        "    \n",
        "    # Define the forward computation (input data x flows through nn.Linear())\n",
        "    def forward(self, x: torch.Tensor) -> torch.Tensor:\n",
        "        return self.linear_layer(x)\n",
        "\n",
        "# Set the manual seed when creating the model (this isn't always need but is used for demonstrative purposes, try commenting it out and seeing what happens)\n",
        "torch.manual_seed(42)\n",
        "model_1 = LinearRegressionModelV2()\n",
        "model_1, model_1.state_dict()"
      ],
      "metadata": {
        "id": "LG4X37dLGc5A",
        "colab": {
          "base_uri": "https://localhost:8080/"
        },
        "outputId": "6151eab1-c7bf-4447-92d4-a26878b590bd"
      },
      "execution_count": 181,
      "outputs": [
        {
          "output_type": "execute_result",
          "data": {
            "text/plain": [
              "(LinearRegressionModelV2(\n",
              "   (linear_layer): Linear(in_features=1, out_features=1, bias=True)\n",
              " ),\n",
              " OrderedDict([('linear_layer.weight', tensor([[0.7645]])),\n",
              "              ('linear_layer.bias', tensor([0.8300]))]))"
            ]
          },
          "metadata": {},
          "execution_count": 181
        }
      ]
    },
    {
      "cell_type": "code",
      "source": [
        "model_1.to(device)\n",
        "next(model_1.parameters()).device"
      ],
      "metadata": {
        "colab": {
          "base_uri": "https://localhost:8080/"
        },
        "id": "H0m1hfFYwfNW",
        "outputId": "5208a385-a378-4fc9-89f2-736944d2094b"
      },
      "execution_count": 182,
      "outputs": [
        {
          "output_type": "execute_result",
          "data": {
            "text/plain": [
              "device(type='cuda', index=0)"
            ]
          },
          "metadata": {},
          "execution_count": 182
        }
      ]
    },
    {
      "cell_type": "code",
      "source": [
        "# Trainning\n",
        "import torch \n",
        "from torch import nn\n",
        "# Setup the loss function \n",
        "\n",
        "loss_fn2 = nn.L1Loss()\n",
        "\n",
        "\n",
        "\n",
        "# Setup our optimizer\n",
        "\n",
        "optimizer = torch.optim.SGD(params = model_1.parameters(),\n",
        "                            lr = 0.01)\n",
        "\n",
        "torch.manual_seed(52)\n",
        "\n",
        "epochs = 200\n",
        "\n",
        "X_train2 = X_train2.to(device)\n",
        "X_test2 = X_test2.to(device)\n",
        "Y_train2 = Y_train2.to(device)\n",
        "Y_test2 = Y_test2.to(device)\n",
        "\n",
        "\n",
        "# Put the data on the target device\n",
        "\n",
        "\n",
        "for epoch in range(epochs):\n",
        "  model_1.train()\n",
        "\n",
        "  y_pred = model_1(X_train2)\n",
        "\n",
        "\n",
        "  loss = loss_fn2(y_pred,Y_train2)\n",
        "\n",
        "  optimizer.zero_grad()\n",
        "\n",
        "  loss.backward()\n",
        "\n",
        "  optimizer.step()\n",
        "  #Testing\n",
        "  model_1.eval()\n",
        "\n",
        "  with torch.inference_mode():\n",
        "    test_preds = model_1(X_test2)\n",
        "\n",
        "    test_loss = loss_fn2(test_preds,Y_test2)\n",
        "\n",
        "  if epoch % 10 == 0 :\n",
        "    print(f\"Epoch : {epoch} | Loss : {loss} | Trst loss : {test_loss}\")\n"
      ],
      "metadata": {
        "colab": {
          "base_uri": "https://localhost:8080/"
        },
        "id": "rMebFpnowyXK",
        "outputId": "48f32d53-eba7-453b-e6ba-4f2b0622fee4"
      },
      "execution_count": 183,
      "outputs": [
        {
          "output_type": "stream",
          "name": "stdout",
          "text": [
            "Epoch : 0 | Loss : 0.6941779255867004 | Trst loss : 0.7629762887954712\n",
            "Epoch : 10 | Loss : 0.5789680480957031 | Trst loss : 0.6282663941383362\n",
            "Epoch : 20 | Loss : 0.4637582004070282 | Trst loss : 0.49355655908584595\n",
            "Epoch : 30 | Loss : 0.3485483229160309 | Trst loss : 0.3588466942310333\n",
            "Epoch : 40 | Loss : 0.23333846032619476 | Trst loss : 0.22413687407970428\n",
            "Epoch : 50 | Loss : 0.11812856048345566 | Trst loss : 0.08942705392837524\n",
            "Epoch : 60 | Loss : 0.014664086513221264 | Trst loss : 0.027661234140396118\n",
            "Epoch : 70 | Loss : 0.010410388931632042 | Trst loss : 0.0235457606613636\n",
            "Epoch : 80 | Loss : 0.006971580442041159 | Trst loss : 0.015273267403244972\n",
            "Epoch : 90 | Loss : 0.0035398409236222506 | Trst loss : 0.007687687873840332\n",
            "Epoch : 100 | Loss : 0.0036876804661005735 | Trst loss : 0.012758738361299038\n",
            "Epoch : 110 | Loss : 0.0036876804661005735 | Trst loss : 0.012758738361299038\n",
            "Epoch : 120 | Loss : 0.0036876804661005735 | Trst loss : 0.012758738361299038\n",
            "Epoch : 130 | Loss : 0.0036876804661005735 | Trst loss : 0.012758738361299038\n",
            "Epoch : 140 | Loss : 0.0036876804661005735 | Trst loss : 0.012758738361299038\n",
            "Epoch : 150 | Loss : 0.0036876804661005735 | Trst loss : 0.012758738361299038\n",
            "Epoch : 160 | Loss : 0.0036876804661005735 | Trst loss : 0.012758738361299038\n",
            "Epoch : 170 | Loss : 0.0036876804661005735 | Trst loss : 0.012758738361299038\n",
            "Epoch : 180 | Loss : 0.0036876804661005735 | Trst loss : 0.012758738361299038\n",
            "Epoch : 190 | Loss : 0.0036876804661005735 | Trst loss : 0.012758738361299038\n"
          ]
        }
      ]
    },
    {
      "cell_type": "code",
      "source": [
        "model_1.eval()\n",
        "# Make predictions\n",
        "with torch.inference_mode():\n",
        "  y_preds2 = model_1(X_test2)\n",
        "\n",
        "y_preds2"
      ],
      "metadata": {
        "id": "jTWPB2_nsvia",
        "colab": {
          "base_uri": "https://localhost:8080/"
        },
        "outputId": "5115a103-3269-444a-fef4-c01e54191b2e"
      },
      "execution_count": 184,
      "outputs": [
        {
          "output_type": "execute_result",
          "data": {
            "text/plain": [
              "tensor([[0.6812],\n",
              "        [0.6931],\n",
              "        [0.7050],\n",
              "        [0.7169],\n",
              "        [0.7288],\n",
              "        [0.7407],\n",
              "        [0.7525],\n",
              "        [0.7644],\n",
              "        [0.7763],\n",
              "        [0.7882]], device='cuda:0')"
            ]
          },
          "metadata": {},
          "execution_count": 184
        }
      ]
    },
    {
      "cell_type": "code",
      "source": [
        "\n",
        "plot_predictions(predictions = y_preds2.cpu())"
      ],
      "metadata": {
        "id": "Kfuspjrlrn89",
        "colab": {
          "base_uri": "https://localhost:8080/",
          "height": 599
        },
        "outputId": "2f491f42-8eb6-47bd-f490-f2a668bd72de"
      },
      "execution_count": 185,
      "outputs": [
        {
          "output_type": "display_data",
          "data": {
            "text/plain": [
              "<Figure size 1000x700 with 1 Axes>"
            ],
            "image/png": "[encoded data removed]"
          },
          "metadata": {}
        }
      ]
    },
    {
      "cell_type": "code",
      "source": [
        "model_1.state_dict()"
      ],
      "metadata": {
        "id": "RJg-DoA_xRj3",
        "colab": {
          "base_uri": "https://localhost:8080/"
        },
        "outputId": "dc6db463-e9fd-41ea-8b42-5afd04e101f9"
      },
      "execution_count": 186,
      "outputs": [
        {
          "output_type": "execute_result",
          "data": {
            "text/plain": [
              "OrderedDict([('linear_layer.weight', tensor([[0.5940]], device='cuda:0')),\n",
              "             ('linear_layer.bias', tensor([0.2060], device='cuda:0'))])"
            ]
          },
          "metadata": {},
          "execution_count": 186
        }
      ]
    },
    {
      "cell_type": "code",
      "source": [
        "# Save our model\n",
        "\n",
        "from pathlib import Path\n",
        "\n",
        "# 1. Create models directory \n",
        "MODEL_PATH = Path(\"Models\")\n",
        "MODEL_PATH.mkdir(parents=True, exist_ok=True)\n",
        "\n",
        "# 2. Create model save path \n",
        "MODEL_NAME = \"MD1.pth\"\n",
        "MODEL_SAVE_PATH = MODEL_PATH / MODEL_NAME\n",
        "\n",
        "# 3. Save the model state dict \n",
        "print(f\"Saving model to: {MODEL_SAVE_PATH}\")\n",
        "torch.save(obj=model_1.state_dict(), # only saving the state_dict() only saves the models learned parameters\n",
        "           f=MODEL_SAVE_PATH)"
      ],
      "metadata": {
        "id": "qZXKQ5T6x31w",
        "colab": {
          "base_uri": "https://localhost:8080/"
        },
        "outputId": "cae9ea8d-a3d3-4cde-bd57-2e19c4374fa7"
      },
      "execution_count": 187,
      "outputs": [
        {
          "output_type": "stream",
          "name": "stdout",
          "text": [
            "Saving model to: Models/MD1.pth\n"
          ]
        }
      ]
    },
    {
      "cell_type": "code",
      "source": [
        "# Load our model\n",
        "\n",
        "loaded_model2 = LinearRegressionModelV2()\n",
        "\n",
        "# Load the model saved dict\n",
        "\n",
        "loaded_model2.load_state_dict(torch.load(MODEL_SAVE_PATH))\n",
        "\n",
        "# Puth the loaded model to Device\n",
        "loaded_model2.to(device)"
      ],
      "metadata": {
        "colab": {
          "base_uri": "https://localhost:8080/"
        },
        "id": "lIbtFSRxSBGM",
        "outputId": "8236fc3c-5559-469a-d554-144e90a26f90"
      },
      "execution_count": 188,
      "outputs": [
        {
          "output_type": "execute_result",
          "data": {
            "text/plain": [
              "LinearRegressionModelV2(\n",
              "  (linear_layer): Linear(in_features=1, out_features=1, bias=True)\n",
              ")"
            ]
          },
          "metadata": {},
          "execution_count": 188
        }
      ]
    },
    {
      "cell_type": "code",
      "source": [
        "next(loaded_model2.parameters()).device"
      ],
      "metadata": {
        "colab": {
          "base_uri": "https://localhost:8080/"
        },
        "id": "3jyIR-YVTDw5",
        "outputId": "c0bbbde7-d0a8-44b1-a54a-35be681bd624"
      },
      "execution_count": 189,
      "outputs": [
        {
          "output_type": "execute_result",
          "data": {
            "text/plain": [
              "device(type='cuda', index=0)"
            ]
          },
          "metadata": {},
          "execution_count": 189
        }
      ]
    },
    {
      "cell_type": "code",
      "source": [
        "loaded_model2.state_dict()"
      ],
      "metadata": {
        "colab": {
          "base_uri": "https://localhost:8080/"
        },
        "id": "8uX9yAolTJN_",
        "outputId": "b59c51b9-9b9f-44fd-ff5e-37728aec0a2f"
      },
      "execution_count": 190,
      "outputs": [
        {
          "output_type": "execute_result",
          "data": {
            "text/plain": [
              "OrderedDict([('linear_layer.weight', tensor([[0.5940]], device='cuda:0')),\n",
              "             ('linear_layer.bias', tensor([0.2060], device='cuda:0'))])"
            ]
          },
          "metadata": {},
          "execution_count": 190
        }
      ]
    },
    {
      "cell_type": "code",
      "source": [
        "# Let s evaluate the loaded model\n",
        "\n",
        "loaded_model2.eval()\n",
        "with torch.inference_mode():\n",
        "  loaded_model2_preds = loaded_model2(X_test2)\n",
        "\n",
        "loaded_model2_preds \n"
      ],
      "metadata": {
        "colab": {
          "base_uri": "https://localhost:8080/"
        },
        "id": "Qs7whs8TTV_2",
        "outputId": "2204cdac-23d5-49a4-c6c2-e8d881040bf8"
      },
      "execution_count": 192,
      "outputs": [
        {
          "output_type": "execute_result",
          "data": {
            "text/plain": [
              "tensor([[0.6812],\n",
              "        [0.6931],\n",
              "        [0.7050],\n",
              "        [0.7169],\n",
              "        [0.7288],\n",
              "        [0.7407],\n",
              "        [0.7525],\n",
              "        [0.7644],\n",
              "        [0.7763],\n",
              "        [0.7882]], device='cuda:0')"
            ]
          },
          "metadata": {},
          "execution_count": 192
        }
      ]
    },
    {
      "cell_type": "code",
      "source": [
        "y_preds2 == loaded_model2_preds #Cool"
      ],
      "metadata": {
        "colab": {
          "base_uri": "https://localhost:8080/"
        },
        "id": "pjaMBrs2UCbA",
        "outputId": "d4fc394b-eb3b-4e5b-e474-731f97d06096"
      },
      "execution_count": 193,
      "outputs": [
        {
          "output_type": "execute_result",
          "data": {
            "text/plain": [
              "tensor([[True],\n",
              "        [True],\n",
              "        [True],\n",
              "        [True],\n",
              "        [True],\n",
              "        [True],\n",
              "        [True],\n",
              "        [True],\n",
              "        [True],\n",
              "        [True]], device='cuda:0')"
            ]
          },
          "metadata": {},
          "execution_count": 193
        }
      ]
    }
  ]
}