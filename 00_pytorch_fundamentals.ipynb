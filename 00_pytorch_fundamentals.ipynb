{
  "nbformat": 4,
  "nbformat_minor": 0,
  "metadata": {
    "colab": {
      "provenance": [],
      "authorship_tag": "ABX9TyMochGRal9SM+5zC3MZueBg",
      "include_colab_link": true
    },
    "kernelspec": {
      "name": "python3",
      "display_name": "Python 3"
    },
    "language_info": {
      "name": "python"
    },
    "gpuClass": "standard",
    "accelerator": "GPU"
  },
  "cells": [
    {
      "cell_type": "markdown",
      "metadata": {
        "id": "view-in-github",
        "colab_type": "text"
      },
      "source": [
        "<a href=\"https://colab.research.google.com/github/Khaled-844AI/Pytorch00_fundamentals/blob/main/00_pytorch_fundamentals.ipynb\" target=\"_parent\"><img src=\"https://colab.research.google.com/assets/colab-badge.svg\" alt=\"Open In Colab\"/></a>"
      ]
    },
    {
      "cell_type": "code",
      "execution_count": null,
      "metadata": {
        "id": "SQLE6oii6hht"
      },
      "outputs": [],
      "source": [
        "import torch\n",
        "import pandas as pd\n"
      ]
    },
    {
      "cell_type": "code",
      "source": [
        "scaler = torch.tensor(7)\n",
        "scaler\n",
        "#tensors have no dementions"
      ],
      "metadata": {
        "colab": {
          "base_uri": "https://localhost:8080/"
        },
        "id": "F1TWLY5m8C5j",
        "outputId": "abdc5640-b49f-4896-c62d-c11c980c95c1"
      },
      "execution_count": null,
      "outputs": [
        {
          "output_type": "execute_result",
          "data": {
            "text/plain": [
              "tensor(7)"
            ]
          },
          "metadata": {},
          "execution_count": 7
        }
      ]
    },
    {
      "cell_type": "code",
      "source": [
        "scaler.item()\n",
        "#get tensor back in int format"
      ],
      "metadata": {
        "colab": {
          "base_uri": "https://localhost:8080/"
        },
        "id": "h_1Sn9Dk9JJc",
        "outputId": "c550eb6b-fa93-4f26-8218-110d51b394a5"
      },
      "execution_count": null,
      "outputs": [
        {
          "output_type": "execute_result",
          "data": {
            "text/plain": [
              "7"
            ]
          },
          "metadata": {},
          "execution_count": 8
        }
      ]
    },
    {
      "cell_type": "code",
      "source": [
        "#vector\n",
        "vector = torch.tensor([7, 7])\n",
        "vector\n",
        "vector.ndim#demention"
      ],
      "metadata": {
        "colab": {
          "base_uri": "https://localhost:8080/"
        },
        "id": "Z6dXX1ob9bWC",
        "outputId": "d4cfd753-7b8f-4ce0-ba6a-67f7e6849dd2"
      },
      "execution_count": null,
      "outputs": [
        {
          "output_type": "execute_result",
          "data": {
            "text/plain": [
              "1"
            ]
          },
          "metadata": {},
          "execution_count": 12
        }
      ]
    },
    {
      "cell_type": "code",
      "source": [
        "vector.shape"
      ],
      "metadata": {
        "colab": {
          "base_uri": "https://localhost:8080/"
        },
        "id": "AyJtshNz-ATb",
        "outputId": "9dff126a-f0e6-4855-e79d-1e18ac8db421"
      },
      "execution_count": null,
      "outputs": [
        {
          "output_type": "execute_result",
          "data": {
            "text/plain": [
              "torch.Size([2])"
            ]
          },
          "metadata": {},
          "execution_count": 13
        }
      ]
    },
    {
      "cell_type": "code",
      "source": [
        "#Matrix\n",
        "MATRIX = torch.tensor([[7, 8],[10, 9]])\n",
        "MATRIX\n"
      ],
      "metadata": {
        "colab": {
          "base_uri": "https://localhost:8080/"
        },
        "id": "Exi-pOa6-IZ6",
        "outputId": "c3393b52-3c0c-48fd-9a8f-c12c2bb1bffb"
      },
      "execution_count": null,
      "outputs": [
        {
          "output_type": "execute_result",
          "data": {
            "text/plain": [
              "tensor([[ 7,  8],\n",
              "        [10,  9]])"
            ]
          },
          "metadata": {},
          "execution_count": 15
        }
      ]
    },
    {
      "cell_type": "code",
      "source": [
        "#TENSOR\n",
        "TENSOR = torch.tensor([[[1, 5, 9],\n",
        "                        [4, 8, 7],\n",
        "                        [9, 10, 5]]])\n",
        "TENSOR"
      ],
      "metadata": {
        "colab": {
          "base_uri": "https://localhost:8080/"
        },
        "id": "wWzKddgx-07T",
        "outputId": "1966ac8a-17f4-45ef-9f15-e17676e8313b"
      },
      "execution_count": null,
      "outputs": [
        {
          "output_type": "execute_result",
          "data": {
            "text/plain": [
              "tensor([[[ 1,  5,  9],\n",
              "         [ 4,  8,  7],\n",
              "         [ 9, 10,  5]]])"
            ]
          },
          "metadata": {},
          "execution_count": 16
        }
      ]
    },
    {
      "cell_type": "code",
      "source": [
        "TENSOR.ndim"
      ],
      "metadata": {
        "colab": {
          "base_uri": "https://localhost:8080/"
        },
        "id": "N3HjgPBu_UeB",
        "outputId": "6689d688-f84a-4c49-d0b9-3cd72feb3b39"
      },
      "execution_count": null,
      "outputs": [
        {
          "output_type": "execute_result",
          "data": {
            "text/plain": [
              "3"
            ]
          },
          "metadata": {},
          "execution_count": 17
        }
      ]
    },
    {
      "cell_type": "code",
      "source": [
        "TENSOR.shape"
      ],
      "metadata": {
        "colab": {
          "base_uri": "https://localhost:8080/"
        },
        "id": "IMZmzT3D_cY0",
        "outputId": "0a61af77-24f6-4f96-9a1e-e3909a5d1fc0"
      },
      "execution_count": null,
      "outputs": [
        {
          "output_type": "execute_result",
          "data": {
            "text/plain": [
              "torch.Size([1, 3, 3])"
            ]
          },
          "metadata": {},
          "execution_count": 18
        }
      ]
    },
    {
      "cell_type": "code",
      "source": [
        "### RANDOM TENSORS\n",
        "#why?\n",
        "\n",
        "#Random ransors important because the way many neural networks learn is that they start with tensors full of random numbers\n",
        "#and then they adjust this numbers to better represent the data\n",
        "#Start with random numbers -> look at data -> update random numbers -> look at data -> update random numbers"
      ],
      "metadata": {
        "id": "wewIhJB6AdRw"
      },
      "execution_count": null,
      "outputs": []
    },
    {
      "cell_type": "code",
      "source": [
        "#Create a random tensor of size {3, 4}\n",
        "Random_tensor = torch.rand(3, 4)#3Dementions\n",
        "Random_tensor"
      ],
      "metadata": {
        "colab": {
          "base_uri": "https://localhost:8080/"
        },
        "id": "xmtzLPvlB1mt",
        "outputId": "d9a50c01-492c-46eb-e3b6-e6f1d27b6f92"
      },
      "execution_count": null,
      "outputs": [
        {
          "output_type": "execute_result",
          "data": {
            "text/plain": [
              "tensor([[0.9421, 0.3501, 0.3594, 0.6288],\n",
              "        [0.5241, 0.6105, 0.7341, 0.3783],\n",
              "        [0.9658, 0.2242, 0.6918, 0.1490]])"
            ]
          },
          "metadata": {},
          "execution_count": 4
        }
      ]
    },
    {
      "cell_type": "code",
      "source": [
        "# Create a random tensor with similar shape to an image tensor\n",
        "random_image_size_tesor = torch.rand(size=(224, 224, 3))#height, width, color channel\n",
        "random_image_size_tesor.ndim,random_image_size_tesor.shape"
      ],
      "metadata": {
        "colab": {
          "base_uri": "https://localhost:8080/"
        },
        "id": "NBgIhv0_DUwm",
        "outputId": "c0b8f424-793f-4389-b493-46f0c61ff6ae"
      },
      "execution_count": null,
      "outputs": [
        {
          "output_type": "execute_result",
          "data": {
            "text/plain": [
              "(3, torch.Size([224, 224, 3]))"
            ]
          },
          "metadata": {},
          "execution_count": 9
        }
      ]
    },
    {
      "cell_type": "code",
      "source": [
        "#my own random tensor\n",
        "My_Tensor = torch.rand(size=(4, 255, 255))\n",
        "My_Tensor"
      ],
      "metadata": {
        "colab": {
          "base_uri": "https://localhost:8080/"
        },
        "id": "R_6tNvdCEanC",
        "outputId": "77d35495-c23f-4728-c67f-2af3f019c8e2"
      },
      "execution_count": null,
      "outputs": [
        {
          "output_type": "execute_result",
          "data": {
            "text/plain": [
              "tensor([[[0.0127, 0.3577, 0.3134,  ..., 0.3318, 0.2530, 0.7240],\n",
              "         [0.0410, 0.3789, 0.1905,  ..., 0.0527, 0.4841, 0.2253],\n",
              "         [0.0478, 0.2854, 0.4340,  ..., 0.4449, 0.9518, 0.4929],\n",
              "         ...,\n",
              "         [0.2407, 0.0279, 0.9086,  ..., 0.9927, 0.1115, 0.9695],\n",
              "         [0.1294, 0.1562, 0.2718,  ..., 0.8255, 0.9577, 0.4954],\n",
              "         [0.6541, 0.9487, 0.0337,  ..., 0.4183, 0.6668, 0.4979]],\n",
              "\n",
              "        [[0.4766, 0.0713, 0.3646,  ..., 0.7426, 0.0625, 0.5422],\n",
              "         [0.4596, 0.7811, 0.3735,  ..., 0.0197, 0.7275, 0.6558],\n",
              "         [0.5011, 0.0307, 0.6962,  ..., 0.4823, 0.0729, 0.0264],\n",
              "         ...,\n",
              "         [0.0294, 0.5822, 0.0832,  ..., 0.6498, 0.2211, 0.9394],\n",
              "         [0.2666, 0.1617, 0.4877,  ..., 0.4998, 0.8065, 0.5182],\n",
              "         [0.1138, 0.8630, 0.4442,  ..., 0.8291, 0.7531, 0.8754]],\n",
              "\n",
              "        [[0.8132, 0.2049, 0.0190,  ..., 0.7454, 0.9029, 0.1891],\n",
              "         [0.7884, 0.7425, 0.6635,  ..., 0.3941, 0.8563, 0.7282],\n",
              "         [0.9421, 0.8296, 0.8190,  ..., 0.9995, 0.2935, 0.8224],\n",
              "         ...,\n",
              "         [0.7174, 0.5134, 0.8503,  ..., 0.9345, 0.2783, 0.1620],\n",
              "         [0.6376, 0.7316, 0.2340,  ..., 0.8801, 0.8397, 0.0693],\n",
              "         [0.6133, 0.4955, 0.7696,  ..., 0.2891, 0.0104, 0.7064]],\n",
              "\n",
              "        [[0.9865, 0.0722, 0.6803,  ..., 0.1793, 0.4164, 0.5115],\n",
              "         [0.4072, 0.9468, 0.3203,  ..., 0.7154, 0.4103, 0.9950],\n",
              "         [0.0383, 0.9441, 0.6396,  ..., 0.2038, 0.9531, 0.4945],\n",
              "         ...,\n",
              "         [0.8273, 0.5614, 0.8197,  ..., 0.4928, 0.2524, 0.9077],\n",
              "         [0.4913, 0.8054, 0.2047,  ..., 0.4067, 0.8819, 0.7060],\n",
              "         [0.1705, 0.0129, 0.6870,  ..., 0.6906, 0.0146, 0.5978]]])"
            ]
          },
          "metadata": {},
          "execution_count": 4
        }
      ]
    },
    {
      "cell_type": "code",
      "source": [
        "My_Tensor.ndim"
      ],
      "metadata": {
        "colab": {
          "base_uri": "https://localhost:8080/"
        },
        "id": "05HS4OHeFAqi",
        "outputId": "3e701c61-6bc1-4104-81a1-475bf8c0767f"
      },
      "execution_count": null,
      "outputs": [
        {
          "output_type": "execute_result",
          "data": {
            "text/plain": [
              "3"
            ]
          },
          "metadata": {},
          "execution_count": 13
        }
      ]
    },
    {
      "cell_type": "code",
      "source": [
        "#Create tensor of all zeros \n",
        "zeros = torch.zeros(size=(3, 4))\n",
        "zeros"
      ],
      "metadata": {
        "colab": {
          "base_uri": "https://localhost:8080/"
        },
        "id": "gDUF8ZQUydzm",
        "outputId": "800b38dc-380e-4f24-f188-7a0e8a62679d"
      },
      "execution_count": null,
      "outputs": [
        {
          "output_type": "execute_result",
          "data": {
            "text/plain": [
              "tensor([[0., 0., 0., 0.],\n",
              "        [0., 0., 0., 0.],\n",
              "        [0., 0., 0., 0.]])"
            ]
          },
          "metadata": {},
          "execution_count": 3
        }
      ]
    },
    {
      "cell_type": "code",
      "source": [
        "zeros*Random_tensor"
      ],
      "metadata": {
        "colab": {
          "base_uri": "https://localhost:8080/"
        },
        "id": "JpVBZW2ry_Id",
        "outputId": "ed2b2e5a-408c-4df6-c404-12636283c0e9"
      },
      "execution_count": null,
      "outputs": [
        {
          "output_type": "execute_result",
          "data": {
            "text/plain": [
              "tensor([[0., 0., 0., 0.],\n",
              "        [0., 0., 0., 0.],\n",
              "        [0., 0., 0., 0.]])"
            ]
          },
          "metadata": {},
          "execution_count": 7
        }
      ]
    },
    {
      "cell_type": "code",
      "source": [
        "#Create a tensor of all ones\n",
        "ones = torch.ones(size=(3, 4))\n",
        "ones"
      ],
      "metadata": {
        "colab": {
          "base_uri": "https://localhost:8080/"
        },
        "id": "0TYF3TI3zR4u",
        "outputId": "7a99de49-65e6-4738-c0c5-b09633ff8151"
      },
      "execution_count": null,
      "outputs": [
        {
          "output_type": "execute_result",
          "data": {
            "text/plain": [
              "tensor([[1., 1., 1., 1.],\n",
              "        [1., 1., 1., 1.],\n",
              "        [1., 1., 1., 1.]])"
            ]
          },
          "metadata": {},
          "execution_count": 8
        }
      ]
    },
    {
      "cell_type": "code",
      "source": [
        "ones.dtype"
      ],
      "metadata": {
        "colab": {
          "base_uri": "https://localhost:8080/"
        },
        "id": "KaTbRw8Ozkbb",
        "outputId": "d61063b3-4528-443b-a455-2396375b3fb7"
      },
      "execution_count": null,
      "outputs": [
        {
          "output_type": "execute_result",
          "data": {
            "text/plain": [
              "torch.float32"
            ]
          },
          "metadata": {},
          "execution_count": 9
        }
      ]
    },
    {
      "cell_type": "code",
      "source": [
        "#Creating a range of tensors and tensors-like"
      ],
      "metadata": {
        "id": "eY1rVImSz3dD"
      },
      "execution_count": null,
      "outputs": []
    },
    {
      "cell_type": "code",
      "source": [
        "torch.arange(0, 10)"
      ],
      "metadata": {
        "colab": {
          "base_uri": "https://localhost:8080/"
        },
        "id": "J2AYRNAxz_KL",
        "outputId": "2b785fa5-7a8a-457c-ef3a-48b75c60537e"
      },
      "execution_count": null,
      "outputs": [
        {
          "output_type": "execute_result",
          "data": {
            "text/plain": [
              "tensor([0, 1, 2, 3, 4, 5, 6, 7, 8, 9])"
            ]
          },
          "metadata": {},
          "execution_count": 12
        }
      ]
    },
    {
      "cell_type": "code",
      "source": [
        "torch.__version__#to check the torch version"
      ],
      "metadata": {
        "colab": {
          "base_uri": "https://localhost:8080/",
          "height": 35
        },
        "id": "Z9qNrkvA0G9r",
        "outputId": "d371645d-7521-4096-c13c-fde23fd72b84"
      },
      "execution_count": null,
      "outputs": [
        {
          "output_type": "execute_result",
          "data": {
            "text/plain": [
              "'1.13.1+cu116'"
            ],
            "application/vnd.google.colaboratory.intrinsic+json": {
              "type": "string"
            }
          },
          "metadata": {},
          "execution_count": 11
        }
      ]
    },
    {
      "cell_type": "code",
      "source": [
        "range = torch.arange(start=0, end=1001, step=50)\n",
        "range"
      ],
      "metadata": {
        "colab": {
          "base_uri": "https://localhost:8080/"
        },
        "id": "YrYqr_zd0wxK",
        "outputId": "6b98a5af-a4b6-40ef-d860-0a54bb30b7a4"
      },
      "execution_count": null,
      "outputs": [
        {
          "output_type": "execute_result",
          "data": {
            "text/plain": [
              "tensor([   0,   50,  100,  150,  200,  250,  300,  350,  400,  450,  500,  550,\n",
              "         600,  650,  700,  750,  800,  850,  900,  950, 1000])"
            ]
          },
          "metadata": {},
          "execution_count": 13
        }
      ]
    },
    {
      "cell_type": "code",
      "source": [
        "#Creating tensors like\n",
        "range_like = torch.zeros_like(input=range)\n",
        "range_like"
      ],
      "metadata": {
        "colab": {
          "base_uri": "https://localhost:8080/"
        },
        "id": "lbqdSYcx1GaK",
        "outputId": "d396cc01-db4e-41c9-9b04-f5687df62abc"
      },
      "execution_count": null,
      "outputs": [
        {
          "output_type": "execute_result",
          "data": {
            "text/plain": [
              "tensor([0, 0, 0, 0, 0, 0, 0, 0, 0, 0, 0, 0, 0, 0, 0, 0, 0, 0, 0, 0, 0])"
            ]
          },
          "metadata": {},
          "execution_count": 15
        }
      ]
    },
    {
      "cell_type": "markdown",
      "source": [
        "**Note**:tensor datatypes is one of 3 big errors you ll run into with pytorch & deep learning : \n",
        "\n",
        "    1. Tensors not right datatype\n",
        "    2. Tensors not right shape\n",
        "    3. Tensors not on the right device\n"
      ],
      "metadata": {
        "id": "fgA_ulzI4j0g"
      }
    },
    {
      "cell_type": "code",
      "source": [
        "#float 32 tesor\n",
        "float_32_tensor = torch.tensor([3.0, 6.0, 9.0],\n",
        "                               dtype=None,#data type 32 bit or 64 bit or 16 bit\n",
        "                               device=\"cpu\",#the device type cpu or gpu (cuda)\n",
        "                               requires_grad=False)# wether or not track gradients with this tensors operations\n",
        "float_32_tensor"
      ],
      "metadata": {
        "colab": {
          "base_uri": "https://localhost:8080/"
        },
        "id": "opkbEmwi2bne",
        "outputId": "39ce00d4-9883-40a4-9500-c662e2a99178"
      },
      "execution_count": null,
      "outputs": [
        {
          "output_type": "execute_result",
          "data": {
            "text/plain": [
              "tensor([3., 6., 9.])"
            ]
          },
          "metadata": {},
          "execution_count": 18
        }
      ]
    },
    {
      "cell_type": "code",
      "source": [
        "float_32_tensor.dtype #even we set it ti none in pytorch it s gona be float 32 by default"
      ],
      "metadata": {
        "colab": {
          "base_uri": "https://localhost:8080/"
        },
        "id": "45xPBXDj2S2W",
        "outputId": "7992b5c9-c6fc-4bb8-e521-71f2dcb8bdfb"
      },
      "execution_count": null,
      "outputs": [
        {
          "output_type": "execute_result",
          "data": {
            "text/plain": [
              "torch.float32"
            ]
          },
          "metadata": {},
          "execution_count": 17
        }
      ]
    },
    {
      "cell_type": "code",
      "source": [
        "float_16_tensor = float_32_tensor.type(torch.float16)#or we can use .half to convert from 32 to 16\n",
        "float_16_tensor"
      ],
      "metadata": {
        "colab": {
          "base_uri": "https://localhost:8080/"
        },
        "id": "RqiuyR2d5ZZq",
        "outputId": "b8b23711-fc1b-42b4-b9e2-5f65fcdde5c6"
      },
      "execution_count": null,
      "outputs": [
        {
          "output_type": "execute_result",
          "data": {
            "text/plain": [
              "tensor([3., 6., 9.], dtype=torch.float16)"
            ]
          },
          "metadata": {},
          "execution_count": 19
        }
      ]
    },
    {
      "cell_type": "code",
      "source": [
        "#tensor multiplication\n",
        "\n",
        "tensor = torch.tensor([1,2,3])\n",
        "print(tensor,\"*\",tensor,\"=\",tensor*tensor)\n"
      ],
      "metadata": {
        "id": "u6sDqFO7-O1V",
        "colab": {
          "base_uri": "https://localhost:8080/"
        },
        "outputId": "2a2c2505-2054-4082-84d2-b82acdc002d7"
      },
      "execution_count": null,
      "outputs": [
        {
          "output_type": "stream",
          "name": "stdout",
          "text": [
            "tensor([1, 2, 3]) * tensor([1, 2, 3]) = tensor([1, 4, 9])\n"
          ]
        }
      ]
    },
    {
      "cell_type": "code",
      "source": [
        "#Matrix multiplication\n",
        "torch.matmul(tensor, tensor)"
      ],
      "metadata": {
        "colab": {
          "base_uri": "https://localhost:8080/"
        },
        "id": "kzZuVtrp8MwF",
        "outputId": "711504fa-e1c2-4606-b57f-61e28dc2e203"
      },
      "execution_count": null,
      "outputs": [
        {
          "output_type": "execute_result",
          "data": {
            "text/plain": [
              "tensor(14)"
            ]
          },
          "metadata": {},
          "execution_count": 11
        }
      ]
    },
    {
      "cell_type": "code",
      "source": [
        "tensor @ tensor\n"
      ],
      "metadata": {
        "colab": {
          "base_uri": "https://localhost:8080/"
        },
        "id": "PuFJVgDw8vc5",
        "outputId": "61944b73-11a0-46fe-f157-2e6866172e75"
      },
      "execution_count": null,
      "outputs": [
        {
          "output_type": "execute_result",
          "data": {
            "text/plain": [
              "tensor(14)"
            ]
          },
          "metadata": {},
          "execution_count": 12
        }
      ]
    },
    {
      "cell_type": "code",
      "source": [
        "torch.rand(3 , 2) @ torch.rand(2 , 3)"
      ],
      "metadata": {
        "colab": {
          "base_uri": "https://localhost:8080/"
        },
        "id": "MsxiKgtiBXZU",
        "outputId": "960a55e4-ae18-45dd-933a-d9cce92e684a"
      },
      "execution_count": null,
      "outputs": [
        {
          "output_type": "execute_result",
          "data": {
            "text/plain": [
              "tensor([[0.4997, 0.2502, 0.6177],\n",
              "        [0.6562, 0.3462, 0.8265],\n",
              "        [0.7969, 0.0954, 0.7198]])"
            ]
          },
          "metadata": {},
          "execution_count": 13
        }
      ]
    },
    {
      "cell_type": "markdown",
      "source": [
        "To fix our tensor shape issues, we can manipulate the shape of one of our tensors using a **Transpose**,wich stands for switching the axes of a given tensor"
      ],
      "metadata": {
        "id": "4bjkaj1XDPUZ"
      }
    },
    {
      "cell_type": "code",
      "source": [
        "tensor_A = torch.rand(3,4)\n",
        "tensor_A"
      ],
      "metadata": {
        "colab": {
          "base_uri": "https://localhost:8080/"
        },
        "id": "gj1AZo8UDqCi",
        "outputId": "786a0103-f8ee-4b31-d6ac-56073d8a3d2c"
      },
      "execution_count": null,
      "outputs": [
        {
          "output_type": "execute_result",
          "data": {
            "text/plain": [
              "tensor([[0.8637, 0.1965, 0.1355, 0.8359],\n",
              "        [0.4539, 0.2912, 0.0520, 0.4054],\n",
              "        [0.5856, 0.8401, 0.2966, 0.3176]])"
            ]
          },
          "metadata": {},
          "execution_count": 24
        }
      ]
    },
    {
      "cell_type": "code",
      "source": [
        "tensor_B = torch.rand(3,4)\n",
        "tensor_B"
      ],
      "metadata": {
        "colab": {
          "base_uri": "https://localhost:8080/"
        },
        "id": "LLPP5tmLE2-I",
        "outputId": "be855558-95b8-48e3-8ea8-ca6b82561e29"
      },
      "execution_count": null,
      "outputs": [
        {
          "output_type": "execute_result",
          "data": {
            "text/plain": [
              "tensor([[0.7289, 0.9765, 0.0763, 0.2041],\n",
              "        [0.9618, 0.7068, 0.1048, 0.7257],\n",
              "        [0.0856, 0.7133, 0.0864, 0.6776]])"
            ]
          },
          "metadata": {},
          "execution_count": 25
        }
      ]
    },
    {
      "cell_type": "code",
      "source": [
        "tensor_A @ tensor_B.T"
      ],
      "metadata": {
        "colab": {
          "base_uri": "https://localhost:8080/"
        },
        "id": "pscSpMyRFFf0",
        "outputId": "324f679f-02a3-4ec3-a300-04bcef6522cd"
      },
      "execution_count": null,
      "outputs": [
        {
          "output_type": "execute_result",
          "data": {
            "text/plain": [
              "tensor([[1.0024, 1.5905, 0.7922],\n",
              "        [0.7019, 0.9420, 0.5257],\n",
              "        [1.3346, 1.4186, 0.8902]])"
            ]
          },
          "metadata": {},
          "execution_count": 27
        }
      ]
    },
    {
      "cell_type": "code",
      "source": [
        "#Tensor agregation (finding min , max , mean , sum ...)\n",
        "x = torch.arange(0 , 100 , 10)\n",
        "x\n"
      ],
      "metadata": {
        "colab": {
          "base_uri": "https://localhost:8080/"
        },
        "id": "JzU8CGUAOf29",
        "outputId": "f45be77f-d553-4c56-832b-fca7ff9f7e82"
      },
      "execution_count": null,
      "outputs": [
        {
          "output_type": "execute_result",
          "data": {
            "text/plain": [
              "tensor([ 0, 10, 20, 30, 40, 50, 60, 70, 80, 90])"
            ]
          },
          "metadata": {},
          "execution_count": 28
        }
      ]
    },
    {
      "cell_type": "code",
      "source": [
        "\n",
        "torch.max(x), x.max()"
      ],
      "metadata": {
        "colab": {
          "base_uri": "https://localhost:8080/"
        },
        "id": "7PSc2LORPGoa",
        "outputId": "8d8618aa-23c6-42d6-e670-13a547643678"
      },
      "execution_count": null,
      "outputs": [
        {
          "output_type": "execute_result",
          "data": {
            "text/plain": [
              "(tensor(90), tensor(90))"
            ]
          },
          "metadata": {},
          "execution_count": 33
        }
      ]
    },
    {
      "cell_type": "code",
      "source": [
        "torch.min(x), x.min()"
      ],
      "metadata": {
        "colab": {
          "base_uri": "https://localhost:8080/"
        },
        "id": "-YgkgrjZPihr",
        "outputId": "90a18cd6-971e-4e1f-fedb-86ad3ad42783"
      },
      "execution_count": null,
      "outputs": [
        {
          "output_type": "execute_result",
          "data": {
            "text/plain": [
              "(tensor(0), tensor(0))"
            ]
          },
          "metadata": {},
          "execution_count": 42
        }
      ]
    },
    {
      "cell_type": "code",
      "source": [
        "#Find the mean\n",
        "torch.mean(x)"
      ],
      "metadata": {
        "colab": {
          "base_uri": "https://localhost:8080/",
          "height": 185
        },
        "id": "BBWcpmj3Pkrc",
        "outputId": "1d659550-5ae1-460d-b923-398983f231d9"
      },
      "execution_count": null,
      "outputs": [
        {
          "output_type": "error",
          "ename": "RuntimeError",
          "evalue": "ignored",
          "traceback": [
            "\u001b[0;31m---------------------------------------------------------------------------\u001b[0m",
            "\u001b[0;31mRuntimeError\u001b[0m                              Traceback (most recent call last)",
            "\u001b[0;32m<ipython-input-35-812574b4ae0f>\u001b[0m in \u001b[0;36m<module>\u001b[0;34m\u001b[0m\n\u001b[1;32m      1\u001b[0m \u001b[0;31m#Find the mean\u001b[0m\u001b[0;34m\u001b[0m\u001b[0;34m\u001b[0m\u001b[0;34m\u001b[0m\u001b[0m\n\u001b[0;32m----> 2\u001b[0;31m \u001b[0mtorch\u001b[0m\u001b[0;34m.\u001b[0m\u001b[0mmean\u001b[0m\u001b[0;34m(\u001b[0m\u001b[0mx\u001b[0m\u001b[0;34m)\u001b[0m\u001b[0;34m\u001b[0m\u001b[0;34m\u001b[0m\u001b[0m\n\u001b[0m",
            "\u001b[0;31mRuntimeError\u001b[0m: mean(): could not infer output dtype. Input dtype must be either a floating point or complex dtype. Got: Long"
          ]
        }
      ]
    },
    {
      "cell_type": "code",
      "source": [
        "#To fix the error \n",
        "torch.mean(x.type(torch.float32)) , x.type(torch.float32).mean()"
      ],
      "metadata": {
        "colab": {
          "base_uri": "https://localhost:8080/"
        },
        "id": "vKNaciKLQTDp",
        "outputId": "7001ff1e-cec3-41f2-d0c6-a62779fbdc8a"
      },
      "execution_count": null,
      "outputs": [
        {
          "output_type": "execute_result",
          "data": {
            "text/plain": [
              "(tensor(45.), tensor(45.))"
            ]
          },
          "metadata": {},
          "execution_count": 36
        }
      ]
    },
    {
      "cell_type": "code",
      "source": [
        "#Finding the sum\n",
        "torch.sum(x) , x.sum()"
      ],
      "metadata": {
        "colab": {
          "base_uri": "https://localhost:8080/"
        },
        "id": "8BsBWiVPQ1dW",
        "outputId": "9f07324f-8e42-4b78-f5d4-bc9521a1354b"
      },
      "execution_count": null,
      "outputs": [
        {
          "output_type": "execute_result",
          "data": {
            "text/plain": [
              "(tensor(450), tensor(450))"
            ]
          },
          "metadata": {},
          "execution_count": 37
        }
      ]
    },
    {
      "cell_type": "code",
      "source": [
        "#The index of the min\n",
        "x.argmin()"
      ],
      "metadata": {
        "colab": {
          "base_uri": "https://localhost:8080/"
        },
        "id": "c2Zd0BtXRdgB",
        "outputId": "c200f5cc-3fad-4069-8836-ce8b8cd6f1c1"
      },
      "execution_count": null,
      "outputs": [
        {
          "output_type": "execute_result",
          "data": {
            "text/plain": [
              "tensor(0)"
            ]
          },
          "metadata": {},
          "execution_count": 39
        }
      ]
    },
    {
      "cell_type": "code",
      "source": [
        "#finding the index of the max\n",
        "x.argmax()"
      ],
      "metadata": {
        "colab": {
          "base_uri": "https://localhost:8080/"
        },
        "id": "H_OvuPUMRpDJ",
        "outputId": "70684419-bf2c-421e-a419-dacb971856a2"
      },
      "execution_count": null,
      "outputs": [
        {
          "output_type": "execute_result",
          "data": {
            "text/plain": [
              "tensor(9)"
            ]
          },
          "metadata": {},
          "execution_count": 40
        }
      ]
    },
    {
      "cell_type": "code",
      "source": [
        "# Rechaping , stacking , squeezing and unsqueezing tensors\n",
        "z = torch.arange(1., 10.)\n",
        "z,z.shape"
      ],
      "metadata": {
        "colab": {
          "base_uri": "https://localhost:8080/"
        },
        "id": "3qJoBWbIGGns",
        "outputId": "9e05a0bb-d30a-455a-e995-9e4062d6076d"
      },
      "execution_count": null,
      "outputs": [
        {
          "output_type": "execute_result",
          "data": {
            "text/plain": [
              "(tensor([1., 2., 3., 4., 5., 6., 7., 8., 9.]), torch.Size([9]))"
            ]
          },
          "metadata": {},
          "execution_count": 3
        }
      ]
    },
    {
      "cell_type": "code",
      "source": [
        "#add an exetra dimention\n",
        "x_reshaped = z.reshape(1, 9)\n",
        "x_reshaped , x_reshaped.shape"
      ],
      "metadata": {
        "colab": {
          "base_uri": "https://localhost:8080/"
        },
        "id": "MplvCsKGHJ2O",
        "outputId": "85d8581b-d749-48c2-f141-dbdf55b23313"
      },
      "execution_count": null,
      "outputs": [
        {
          "output_type": "execute_result",
          "data": {
            "text/plain": [
              "(tensor([[1., 2., 3., 4., 5., 6., 7., 8., 9.]]), torch.Size([1, 9]))"
            ]
          },
          "metadata": {},
          "execution_count": 10
        }
      ]
    },
    {
      "cell_type": "code",
      "source": [
        "#change the view (the difference between view and reshape is that view changes also the original tensor z and also y)\n",
        "y= z.view(1 , 9)\n",
        "y, y.shape"
      ],
      "metadata": {
        "colab": {
          "base_uri": "https://localhost:8080/"
        },
        "id": "0_d55u6nIVT-",
        "outputId": "7cee3172-cb27-4132-fcd1-b6a4437a10c1"
      },
      "execution_count": null,
      "outputs": [
        {
          "output_type": "execute_result",
          "data": {
            "text/plain": [
              "(tensor([[1., 2., 3., 4., 5., 6., 7., 8., 9.]]), torch.Size([1, 9]))"
            ]
          },
          "metadata": {},
          "execution_count": 15
        }
      ]
    },
    {
      "cell_type": "code",
      "source": [
        "z[0]= 5\n",
        "z , y"
      ],
      "metadata": {
        "colab": {
          "base_uri": "https://localhost:8080/"
        },
        "id": "az2XaU4QJlNW",
        "outputId": "7649c646-6af3-4222-b30c-fb9c7aa9f03b"
      },
      "execution_count": null,
      "outputs": [
        {
          "output_type": "execute_result",
          "data": {
            "text/plain": [
              "(tensor([5., 2., 3., 4., 5., 6., 7., 8., 9.]),\n",
              " tensor([[5., 2., 3., 4., 5., 6., 7., 8., 9.]]))"
            ]
          },
          "metadata": {},
          "execution_count": 17
        }
      ]
    },
    {
      "cell_type": "code",
      "source": [
        "# stack tensors on top of each other\n",
        "Y_stacked = torch.stack([y, y, y, y], dim = 1)\n",
        "Y_stacked "
      ],
      "metadata": {
        "colab": {
          "base_uri": "https://localhost:8080/"
        },
        "id": "V6M19WewKLOP",
        "outputId": "7d178458-3482-4d40-bc3b-36d6af853f3d"
      },
      "execution_count": null,
      "outputs": [
        {
          "output_type": "execute_result",
          "data": {
            "text/plain": [
              "tensor([[[5., 2., 3., 4., 5., 6., 7., 8., 9.],\n",
              "         [5., 2., 3., 4., 5., 6., 7., 8., 9.],\n",
              "         [5., 2., 3., 4., 5., 6., 7., 8., 9.],\n",
              "         [5., 2., 3., 4., 5., 6., 7., 8., 9.]]])"
            ]
          },
          "metadata": {},
          "execution_count": 30
        }
      ]
    },
    {
      "cell_type": "code",
      "source": [
        "V_stacked = torch.hstack([y,y,y,y])\n",
        "V_stacked"
      ],
      "metadata": {
        "colab": {
          "base_uri": "https://localhost:8080/"
        },
        "id": "kQvkYBNzL0Pp",
        "outputId": "21bce9bb-7456-46f6-ac96-2b7ee6e8b558"
      },
      "execution_count": null,
      "outputs": [
        {
          "output_type": "execute_result",
          "data": {
            "text/plain": [
              "tensor([[5., 2., 3., 4., 5., 6., 7., 8., 9., 5., 2., 3., 4., 5., 6., 7., 8., 9.,\n",
              "         5., 2., 3., 4., 5., 6., 7., 8., 9., 5., 2., 3., 4., 5., 6., 7., 8., 9.]])"
            ]
          },
          "metadata": {},
          "execution_count": 36
        }
      ]
    },
    {
      "cell_type": "code",
      "source": [
        "x_reshaped.squeeze()"
      ],
      "metadata": {
        "colab": {
          "base_uri": "https://localhost:8080/"
        },
        "id": "JTM2I9PnM4FW",
        "outputId": "fe6d1866-f535-46d2-d6c2-18b8e1791f28"
      },
      "execution_count": null,
      "outputs": [
        {
          "output_type": "execute_result",
          "data": {
            "text/plain": [
              "tensor([5., 2., 3., 4., 5., 6., 7., 8., 9.])"
            ]
          },
          "metadata": {},
          "execution_count": 39
        }
      ]
    },
    {
      "cell_type": "code",
      "source": [
        "c= torch.ones(3 , 4)\n",
        "c ,c.squeeze()"
      ],
      "metadata": {
        "colab": {
          "base_uri": "https://localhost:8080/"
        },
        "id": "N3sK1JahM_HI",
        "outputId": "9accce17-fabb-4b51-9db4-378148f6a8ea"
      },
      "execution_count": null,
      "outputs": [
        {
          "output_type": "stream",
          "name": "stdout",
          "text": [
            "\n",
            "\n"
          ]
        },
        {
          "output_type": "execute_result",
          "data": {
            "text/plain": [
              "(tensor([[1., 1., 1., 1.],\n",
              "         [1., 1., 1., 1.],\n",
              "         [1., 1., 1., 1.]]), None, tensor([[1., 1., 1., 1.],\n",
              "         [1., 1., 1., 1.],\n",
              "         [1., 1., 1., 1.]]))"
            ]
          },
          "metadata": {},
          "execution_count": 45
        }
      ]
    },
    {
      "cell_type": "code",
      "source": [
        "#torch.permute - rearanges the dimentions of a target tensor to a specified order and returns a view(it changes the original tensor)\n",
        "w = torch.randn(2, 3 ,5)\n",
        "w"
      ],
      "metadata": {
        "colab": {
          "base_uri": "https://localhost:8080/"
        },
        "id": "PSSe6W3ny7Jb",
        "outputId": "683a4fe9-d2ff-42fe-8aea-27e90d1b5cf7"
      },
      "execution_count": null,
      "outputs": [
        {
          "output_type": "execute_result",
          "data": {
            "text/plain": [
              "tensor([[[ 0.6292, -1.9772,  0.2703, -0.6820,  2.3985],\n",
              "         [-0.9666,  0.9475,  0.5945,  0.2390,  1.5234],\n",
              "         [ 0.0497,  0.7633,  0.2591,  0.0454, -0.0556]],\n",
              "\n",
              "        [[ 0.8556,  1.3126,  0.4669, -1.9948, -0.9489],\n",
              "         [ 1.6336, -1.8352,  1.2399,  0.1453,  0.1050],\n",
              "         [-0.0648,  1.2530, -1.3577, -0.4159,  0.6499]]])"
            ]
          },
          "metadata": {},
          "execution_count": 12
        }
      ]
    },
    {
      "cell_type": "code",
      "source": [
        "torch.permute(w,(0,1,2))"
      ],
      "metadata": {
        "colab": {
          "base_uri": "https://localhost:8080/"
        },
        "id": "aRxaf3dzzygB",
        "outputId": "72c4f152-b9f4-440c-8b1f-13e6014f0472"
      },
      "execution_count": null,
      "outputs": [
        {
          "output_type": "execute_result",
          "data": {
            "text/plain": [
              "tensor([[[ 0.6292, -1.9772,  0.2703, -0.6820,  2.3985],\n",
              "         [-0.9666,  0.9475,  0.5945,  0.2390,  1.5234],\n",
              "         [ 0.0497,  0.7633,  0.2591,  0.0454, -0.0556]],\n",
              "\n",
              "        [[ 0.8556,  1.3126,  0.4669, -1.9948, -0.9489],\n",
              "         [ 1.6336, -1.8352,  1.2399,  0.1453,  0.1050],\n",
              "         [-0.0648,  1.2530, -1.3577, -0.4159,  0.6499]]])"
            ]
          },
          "metadata": {},
          "execution_count": 17
        }
      ]
    },
    {
      "cell_type": "code",
      "source": [
        "#in most cases we use permute for images\n",
        "image = torch.rand(size = (10,10,4)) #[height , width , colorchannel]\n",
        "image"
      ],
      "metadata": {
        "colab": {
          "base_uri": "https://localhost:8080/"
        },
        "id": "qC9vf76V2D2i",
        "outputId": "166c6993-e39b-4011-93ed-b3bad372432a"
      },
      "execution_count": null,
      "outputs": [
        {
          "output_type": "execute_result",
          "data": {
            "text/plain": [
              "tensor([[[6.6250e-01, 2.0093e-01, 3.5667e-02, 7.9474e-01],\n",
              "         [4.6465e-01, 1.0536e-01, 1.9341e-01, 2.5020e-01],\n",
              "         [5.7771e-01, 3.2522e-02, 1.1780e-01, 9.4201e-01],\n",
              "         [6.0058e-01, 8.8613e-01, 7.7818e-01, 1.1768e-01],\n",
              "         [7.9182e-01, 5.7324e-01, 2.9960e-01, 3.6397e-01],\n",
              "         [6.9371e-01, 4.0266e-01, 3.1925e-01, 3.7561e-01],\n",
              "         [6.1500e-01, 9.5491e-01, 5.8818e-01, 8.5969e-01],\n",
              "         [8.0116e-01, 7.0151e-01, 3.4638e-01, 8.9902e-01],\n",
              "         [9.2398e-01, 9.1987e-01, 6.0371e-01, 2.0786e-01],\n",
              "         [1.4792e-01, 6.3028e-01, 4.6472e-01, 6.9630e-01]],\n",
              "\n",
              "        [[3.9407e-01, 4.1737e-01, 3.9036e-01, 7.9939e-01],\n",
              "         [2.7513e-01, 3.8367e-01, 6.8434e-02, 5.5842e-01],\n",
              "         [4.8886e-01, 4.2740e-01, 4.4996e-01, 3.0502e-01],\n",
              "         [7.0183e-03, 3.3076e-01, 3.4180e-01, 2.6243e-02],\n",
              "         [4.8303e-01, 3.7492e-01, 8.9672e-01, 4.3049e-01],\n",
              "         [3.1361e-01, 3.3745e-01, 4.7434e-01, 2.1822e-01],\n",
              "         [5.8761e-02, 9.5214e-01, 1.3045e-01, 8.3618e-01],\n",
              "         [7.4167e-03, 1.4952e-01, 2.7756e-01, 4.8360e-01],\n",
              "         [6.0417e-01, 2.5607e-01, 4.7720e-01, 7.4471e-01],\n",
              "         [8.5207e-01, 8.5988e-01, 1.6306e-01, 4.7542e-01]],\n",
              "\n",
              "        [[8.3058e-02, 4.4801e-01, 5.5699e-01, 1.8610e-01],\n",
              "         [7.5486e-01, 2.3370e-01, 5.4263e-02, 2.1934e-01],\n",
              "         [4.7786e-01, 7.9173e-01, 1.3184e-01, 2.2144e-01],\n",
              "         [5.7710e-01, 7.4116e-01, 3.5863e-01, 6.5752e-01],\n",
              "         [1.9657e-01, 9.7102e-01, 5.7242e-01, 6.3969e-01],\n",
              "         [7.8976e-01, 1.9873e-01, 7.7745e-01, 4.5701e-01],\n",
              "         [4.2692e-01, 2.0356e-02, 3.7705e-01, 5.9943e-01],\n",
              "         [1.1314e-01, 9.2720e-01, 3.4891e-01, 3.7128e-01],\n",
              "         [1.1037e-01, 1.0252e-01, 1.7011e-01, 7.8532e-01],\n",
              "         [9.5263e-01, 7.0686e-01, 9.8729e-01, 9.3591e-01]],\n",
              "\n",
              "        [[7.9461e-01, 4.6476e-01, 5.3710e-01, 7.3493e-02],\n",
              "         [4.9659e-02, 7.5385e-01, 3.2260e-01, 2.1907e-01],\n",
              "         [3.7384e-01, 2.6157e-01, 3.8447e-01, 1.5164e-02],\n",
              "         [3.5960e-01, 6.9320e-01, 9.1097e-01, 1.7375e-01],\n",
              "         [4.7712e-01, 4.5430e-01, 3.9177e-01, 6.2037e-01],\n",
              "         [6.3738e-01, 6.3392e-01, 7.7794e-01, 5.4266e-01],\n",
              "         [2.3657e-02, 8.9996e-01, 1.6161e-02, 3.1929e-01],\n",
              "         [6.2085e-02, 6.2997e-01, 5.6773e-01, 1.3358e-02],\n",
              "         [7.6359e-01, 7.8311e-01, 5.8759e-01, 2.9614e-01],\n",
              "         [4.4977e-01, 2.8771e-01, 7.4714e-01, 8.3597e-01]],\n",
              "\n",
              "        [[1.3350e-02, 4.2981e-01, 4.4982e-02, 7.8700e-01],\n",
              "         [1.8597e-01, 9.4524e-01, 2.4226e-01, 5.0835e-02],\n",
              "         [8.7533e-01, 8.5728e-01, 4.6616e-01, 9.5398e-01],\n",
              "         [2.6102e-01, 4.8675e-02, 9.2568e-01, 9.7882e-01],\n",
              "         [8.7022e-01, 9.4878e-02, 7.1511e-01, 2.2166e-01],\n",
              "         [8.6619e-01, 4.1587e-01, 1.8286e-01, 1.6247e-01],\n",
              "         [1.0515e-01, 5.3436e-01, 4.1205e-01, 6.1546e-01],\n",
              "         [5.5558e-01, 4.7189e-01, 5.5643e-01, 5.9047e-02],\n",
              "         [7.3740e-01, 5.0761e-02, 8.7515e-01, 8.1576e-01],\n",
              "         [3.8439e-01, 6.7166e-01, 6.7829e-01, 3.3836e-01]],\n",
              "\n",
              "        [[2.9118e-02, 5.7680e-01, 3.3172e-01, 7.6314e-01],\n",
              "         [3.9852e-02, 2.3356e-02, 3.6350e-01, 5.6251e-01],\n",
              "         [2.8175e-01, 3.8304e-01, 6.9494e-01, 4.2456e-01],\n",
              "         [9.1803e-01, 8.8432e-01, 1.0356e-01, 6.1153e-01],\n",
              "         [9.4548e-01, 3.6187e-01, 1.4245e-01, 3.6319e-02],\n",
              "         [9.8064e-01, 2.9373e-01, 4.2284e-01, 6.3940e-01],\n",
              "         [7.7190e-01, 6.2842e-01, 4.6218e-01, 2.5169e-02],\n",
              "         [7.5734e-01, 3.9765e-01, 9.0261e-01, 3.5229e-01],\n",
              "         [1.9908e-01, 7.5663e-01, 5.1966e-01, 3.4056e-01],\n",
              "         [3.2453e-01, 5.4795e-01, 8.8841e-01, 6.1317e-01]],\n",
              "\n",
              "        [[9.2491e-01, 7.0679e-01, 9.5247e-01, 5.9775e-01],\n",
              "         [3.3084e-01, 8.6860e-01, 5.3594e-01, 5.5787e-02],\n",
              "         [9.0273e-01, 1.7967e-01, 4.1843e-01, 1.4129e-01],\n",
              "         [3.8960e-01, 7.5416e-02, 9.9132e-01, 9.3067e-01],\n",
              "         [6.7781e-01, 5.7333e-01, 5.7170e-01, 6.3424e-01],\n",
              "         [5.8361e-01, 3.7322e-01, 4.2997e-01, 7.7211e-01],\n",
              "         [2.6113e-01, 1.6769e-01, 8.5721e-01, 6.1205e-01],\n",
              "         [1.1849e-01, 3.6557e-01, 3.7576e-01, 4.3917e-01],\n",
              "         [4.1450e-01, 2.4796e-01, 7.6726e-02, 8.8793e-01],\n",
              "         [3.4726e-01, 6.8685e-01, 1.0617e-01, 4.8935e-01]],\n",
              "\n",
              "        [[4.4278e-01, 2.2178e-01, 4.4046e-01, 1.2773e-01],\n",
              "         [1.2033e-01, 4.6087e-01, 3.7999e-01, 1.6171e-01],\n",
              "         [2.1433e-01, 7.0367e-01, 3.7366e-02, 7.5074e-01],\n",
              "         [5.1713e-04, 1.3968e-01, 8.9265e-01, 2.1960e-01],\n",
              "         [3.8399e-01, 3.4346e-01, 3.1305e-01, 4.7476e-01],\n",
              "         [3.5227e-01, 7.9514e-01, 5.5963e-01, 8.5259e-01],\n",
              "         [1.6304e-01, 6.1051e-01, 3.5715e-02, 6.6063e-01],\n",
              "         [7.0240e-01, 6.2629e-01, 5.3673e-01, 6.3657e-01],\n",
              "         [3.3639e-01, 4.4632e-02, 2.1040e-01, 8.5999e-01],\n",
              "         [8.1098e-01, 9.2093e-01, 4.2149e-01, 6.8832e-01]],\n",
              "\n",
              "        [[1.5814e-01, 9.0490e-01, 7.6699e-01, 3.2658e-01],\n",
              "         [8.8519e-01, 9.9210e-02, 6.8111e-01, 7.9432e-01],\n",
              "         [8.2677e-01, 6.5160e-03, 5.8305e-01, 8.1983e-01],\n",
              "         [7.9770e-01, 7.9661e-01, 3.1901e-01, 4.1624e-02],\n",
              "         [2.5991e-01, 2.4262e-01, 6.9028e-01, 2.8237e-01],\n",
              "         [5.9818e-01, 5.8872e-01, 9.6588e-01, 9.2196e-01],\n",
              "         [8.7508e-01, 1.6091e-01, 1.5735e-01, 2.6530e-01],\n",
              "         [8.7619e-01, 9.8051e-01, 7.1961e-01, 4.6383e-01],\n",
              "         [3.1277e-01, 6.5140e-01, 2.8319e-02, 1.0374e-01],\n",
              "         [5.6669e-01, 4.2190e-01, 7.7236e-01, 6.5800e-01]],\n",
              "\n",
              "        [[2.0547e-01, 9.3749e-01, 5.1564e-01, 2.3443e-01],\n",
              "         [2.5882e-01, 1.3197e-01, 8.0316e-01, 5.0250e-02],\n",
              "         [3.7463e-01, 1.4204e-01, 9.4515e-01, 5.5885e-01],\n",
              "         [2.2537e-01, 3.1909e-02, 4.8492e-01, 3.6278e-02],\n",
              "         [4.1708e-01, 3.4764e-01, 5.0166e-01, 8.3370e-01],\n",
              "         [1.0486e-01, 3.7932e-01, 6.5845e-01, 7.4420e-01],\n",
              "         [8.9237e-01, 3.0822e-01, 1.8912e-01, 6.0126e-01],\n",
              "         [9.9771e-02, 8.1190e-01, 5.5041e-01, 5.9204e-01],\n",
              "         [1.4746e-01, 9.1531e-02, 6.6082e-01, 1.8911e-01],\n",
              "         [8.9306e-01, 8.0704e-01, 3.6244e-01, 5.3480e-01]]])"
            ]
          },
          "metadata": {},
          "execution_count": 19
        }
      ]
    },
    {
      "cell_type": "code",
      "source": [
        "print(f\"New tensor :{torch.permute(image,(2,0,1))}\") # [colorchannel , height , width]\n",
        "image_like = torch.permute(image, (2,0,1))\n"
      ],
      "metadata": {
        "colab": {
          "base_uri": "https://localhost:8080/"
        },
        "id": "EoUx-JH23GWr",
        "outputId": "e3cafecf-6120-4cb6-e5d9-9f2da8b6a9bc"
      },
      "execution_count": null,
      "outputs": [
        {
          "output_type": "stream",
          "name": "stdout",
          "text": [
            "New tensor :tensor([[[4.4570e+03, 8.1537e-01, 8.7327e-01, 2.9272e-02, 9.9845e-01,\n",
            "          3.7422e-01, 7.4490e-02, 6.7975e-01, 1.4583e-01, 4.0319e-01],\n",
            "         [4.7794e-01, 6.0654e-01, 9.8630e-01, 2.2531e-01, 4.5468e-01,\n",
            "          8.3314e-01, 8.0542e-01, 7.9028e-01, 4.8884e-01, 5.2383e-01],\n",
            "         [6.7937e-01, 1.1524e-01, 5.0156e-01, 5.5607e-01, 4.6660e-01,\n",
            "          3.4624e-01, 2.9446e-01, 3.3702e-01, 8.2228e-01, 3.1883e-02],\n",
            "         [5.4678e-01, 3.1739e-01, 4.4523e-01, 2.3167e-01, 4.4680e-01,\n",
            "          1.5436e-01, 4.3995e-01, 2.4884e-01, 4.1933e-01, 5.7205e-01],\n",
            "         [3.1308e-01, 4.8334e-01, 1.3092e-01, 8.4896e-01, 8.6183e-01,\n",
            "          1.7503e-01, 3.7190e-01, 4.1263e-01, 6.1130e-01, 8.5711e-01],\n",
            "         [8.0497e-01, 5.0129e-01, 6.4639e-01, 3.2145e-01, 2.1716e-01,\n",
            "          7.8772e-01, 6.6041e-01, 9.0028e-01, 8.6488e-01, 9.2420e-01],\n",
            "         [7.8709e-01, 6.7448e-03, 1.7040e-01, 3.1379e-02, 2.1421e-02,\n",
            "          6.6741e-01, 5.1501e-01, 2.2545e-01, 2.0193e-01, 7.3470e-01],\n",
            "         [9.6061e-01, 6.5809e-01, 9.0922e-01, 6.8148e-01, 4.1823e-01,\n",
            "          1.9050e-01, 4.8890e-01, 1.8063e-01, 9.1639e-01, 4.5170e-01],\n",
            "         [2.6297e-01, 8.1626e-01, 7.7810e-01, 5.2230e-01, 7.8078e-01,\n",
            "          1.1767e-01, 8.5153e-01, 8.9142e-01, 1.1938e-01, 8.8379e-01],\n",
            "         [9.7655e-02, 6.2601e-01, 9.5263e-01, 7.3012e-03, 5.9313e-01,\n",
            "          3.2203e-01, 9.9061e-01, 6.2769e-01, 4.2588e-01, 3.2557e-01]],\n",
            "\n",
            "        [[8.0119e-02, 3.4173e-01, 6.5898e-01, 3.2268e-01, 2.9274e-01,\n",
            "          8.6443e-03, 4.2637e-01, 2.0137e-01, 2.8232e-01, 5.1966e-01],\n",
            "         [8.4038e-01, 9.7581e-01, 8.2793e-01, 2.1634e-01, 6.1168e-01,\n",
            "          5.4745e-01, 3.0030e-01, 2.4707e-01, 3.7258e-01, 3.4888e-01],\n",
            "         [1.7915e-01, 7.1435e-02, 8.4889e-01, 2.3239e-01, 3.3530e-01,\n",
            "          7.0770e-02, 5.1761e-01, 3.1433e-01, 6.5722e-01, 4.2285e-01],\n",
            "         [1.4428e-01, 5.0086e-01, 7.0148e-01, 3.9742e-01, 6.0442e-01,\n",
            "          3.0779e-01, 1.3536e-01, 4.9084e-01, 2.7174e-01, 9.4594e-01],\n",
            "         [7.6029e-01, 5.6638e-01, 9.5849e-01, 4.9704e-02, 6.7652e-02,\n",
            "          8.8282e-01, 7.1386e-01, 9.0818e-01, 4.4995e-01, 1.8381e-01],\n",
            "         [9.4016e-02, 2.8247e-01, 6.0359e-01, 4.9732e-02, 5.3383e-01,\n",
            "          2.0757e-01, 9.3783e-01, 8.8732e-01, 3.2799e-01, 2.2873e-01],\n",
            "         [9.4493e-01, 5.9528e-02, 7.1941e-02, 9.2692e-01, 5.9930e-01,\n",
            "          3.5197e-01, 8.7085e-01, 9.0157e-01, 8.2098e-01, 7.1368e-01],\n",
            "         [2.9023e-01, 5.9858e-01, 8.3134e-03, 8.6727e-01, 1.3374e-01,\n",
            "          6.4345e-02, 9.3676e-01, 3.8386e-01, 3.0966e-01, 5.6607e-01],\n",
            "         [9.6897e-01, 4.7422e-01, 4.4951e-02, 5.8242e-01, 5.3072e-01,\n",
            "          2.5589e-03, 8.2425e-02, 4.0206e-01, 6.1264e-01, 3.8052e-01],\n",
            "         [9.3402e-01, 6.8201e-01, 1.6729e-01, 3.1876e-01, 6.0110e-01,\n",
            "          2.4975e-01, 7.3151e-02, 9.8129e-01, 9.6102e-01, 7.0198e-01]],\n",
            "\n",
            "        [[1.5330e-01, 5.4719e-01, 9.4921e-01, 9.1374e-01, 9.3810e-01,\n",
            "          2.7888e-01, 1.0684e-02, 5.0826e-01, 9.7697e-01, 4.5468e-01],\n",
            "         [4.3058e-01, 3.7913e-01, 4.9882e-01, 9.1805e-01, 8.0432e-01,\n",
            "          1.0758e-01, 4.4013e-02, 5.8233e-01, 6.5907e-01, 9.2009e-01],\n",
            "         [8.3294e-01, 1.2156e-01, 7.8961e-01, 3.8305e-01, 2.6103e-01,\n",
            "          4.3680e-01, 3.8502e-01, 3.8886e-02, 8.3510e-01, 2.3617e-01],\n",
            "         [7.2577e-01, 8.1042e-02, 5.3321e-02, 9.9023e-01, 7.2504e-01,\n",
            "          5.6655e-01, 1.8889e-01, 9.6736e-01, 7.6585e-01, 7.6645e-01],\n",
            "         [9.0819e-01, 6.5932e-02, 9.9106e-01, 4.8535e-01, 1.5111e-01,\n",
            "          6.4556e-01, 3.6271e-01, 3.4462e-01, 7.9808e-01, 4.9854e-01],\n",
            "         [7.6513e-01, 8.6143e-01, 5.6853e-01, 1.8754e-01, 7.0652e-03,\n",
            "          1.7981e-01, 1.0216e-01, 3.3176e-01, 3.2729e-01, 5.4509e-02],\n",
            "         [8.0694e-01, 9.9736e-01, 5.8454e-01, 3.8213e-01, 4.6934e-01,\n",
            "          2.9426e-01, 8.0838e-01, 2.4200e-01, 4.8218e-02, 1.6241e-01],\n",
            "         [2.1288e-01, 4.8892e-01, 2.5562e-01, 7.5570e-01, 6.7274e-01,\n",
            "          7.7853e-01, 4.4043e-01, 1.0568e-01, 2.4853e-02, 1.9194e-01],\n",
            "         [4.8614e-02, 9.2720e-01, 4.2169e-02, 9.6877e-01, 6.8243e-01,\n",
            "          5.4393e-01, 2.3695e-02, 2.4638e-01, 4.2939e-01, 3.5754e-01],\n",
            "         [5.0256e-02, 2.6925e-01, 6.2765e-01, 6.8394e-01, 4.5208e-01,\n",
            "          3.5459e-02, 1.6139e-01, 9.4485e-01, 9.1868e-01, 1.4344e-01]],\n",
            "\n",
            "        [[8.0429e-01, 2.9648e-01, 1.4228e-01, 1.1791e-01, 1.7383e-02,\n",
            "          6.8869e-01, 3.8084e-01, 3.4651e-01, 6.8021e-01, 7.2622e-01],\n",
            "         [7.9789e-01, 1.3337e-01, 1.7081e-02, 9.8166e-02, 8.0160e-01,\n",
            "          6.7565e-01, 6.4312e-01, 5.8105e-02, 2.4799e-01, 1.2136e-01],\n",
            "         [9.8934e-01, 7.6239e-01, 4.8730e-02, 4.7975e-01, 6.6177e-01,\n",
            "          9.2304e-01, 7.9856e-01, 5.6339e-01, 5.8815e-01, 4.3260e-01],\n",
            "         [6.9471e-01, 2.9243e-01, 4.9030e-01, 5.4109e-02, 6.4674e-01,\n",
            "          8.5128e-01, 5.4734e-01, 9.9120e-01, 6.9208e-01, 6.1102e-01],\n",
            "         [1.2968e-01, 3.9048e-01, 7.8654e-01, 1.7829e-01, 8.1589e-01,\n",
            "          2.9699e-01, 4.2708e-01, 7.3426e-01, 8.4361e-01, 8.2461e-01],\n",
            "         [1.9397e-01, 6.2961e-01, 7.8692e-01, 8.9841e-01, 6.0256e-01,\n",
            "          2.0132e-01, 1.0939e-01, 9.2832e-01, 4.7908e-01, 5.6666e-02],\n",
            "         [3.6548e-01, 8.4841e-01, 3.7837e-02, 7.7467e-02, 4.5785e-01,\n",
            "          2.2096e-01, 3.2686e-01, 3.8502e-01, 2.5938e-01, 6.1746e-01],\n",
            "         [6.0610e-01, 1.1737e-02, 8.6291e-01, 2.4445e-01, 3.9156e-01,\n",
            "          7.5971e-01, 4.9085e-01, 2.8207e-01, 9.7133e-01, 5.0637e-01],\n",
            "         [7.8784e-01, 6.8568e-01, 7.9179e-01, 2.2282e-01, 3.9568e-01,\n",
            "          7.5232e-02, 9.7176e-01, 7.4285e-01, 5.9621e-01, 3.0520e-02],\n",
            "         [5.1813e-01, 5.3934e-01, 5.9811e-01, 2.2731e-02, 4.9080e-01,\n",
            "          5.1377e-01, 6.3632e-01, 6.4456e-01, 3.1422e-02, 8.4254e-01]]])\n"
          ]
        }
      ]
    },
    {
      "cell_type": "code",
      "source": [
        "image[0, 0 ,0] = 4457\n",
        "image[0,0,0], image_like[0,0,0]"
      ],
      "metadata": {
        "colab": {
          "base_uri": "https://localhost:8080/"
        },
        "id": "XdHuTX6h6P69",
        "outputId": "e213fa2f-a2c0-46f4-f860-14738ce85faf"
      },
      "execution_count": null,
      "outputs": [
        {
          "output_type": "execute_result",
          "data": {
            "text/plain": [
              "(tensor(4457.), tensor(4457.))"
            ]
          },
          "metadata": {},
          "execution_count": 50
        }
      ]
    },
    {
      "cell_type": "markdown",
      "source": [
        "#- Indexing in pytorch(selecting Data from tensor): \n",
        "*indexing with pytorch is similar to indexing with NumPy."
      ],
      "metadata": {
        "id": "Cgg2NYuX9rW-"
      }
    },
    {
      "cell_type": "code",
      "source": [
        "#Creating a tensor\n",
        "import torch\n",
        "x = torch.arange(1,10).reshape(1, 3 , 3) # [ outer bracket , lines , colones]\n",
        "x , x.shape"
      ],
      "metadata": {
        "colab": {
          "base_uri": "https://localhost:8080/"
        },
        "id": "YwF8py6e9_9o",
        "outputId": "40ed2da3-96da-483b-84d3-4b357c715450"
      },
      "execution_count": null,
      "outputs": [
        {
          "output_type": "execute_result",
          "data": {
            "text/plain": [
              "(tensor([[[1, 2, 3],\n",
              "          [4, 5, 6],\n",
              "          [7, 8, 9]]]), torch.Size([1, 3, 3]))"
            ]
          },
          "metadata": {},
          "execution_count": 3
        }
      ]
    },
    {
      "cell_type": "code",
      "source": [
        "x[0]"
      ],
      "metadata": {
        "colab": {
          "base_uri": "https://localhost:8080/"
        },
        "id": "T_G-mKq0_7yd",
        "outputId": "50298e31-aa55-44bc-dbc6-7ea11272ae2d"
      },
      "execution_count": null,
      "outputs": [
        {
          "output_type": "execute_result",
          "data": {
            "text/plain": [
              "tensor([[1, 2, 3],\n",
              "        [4, 5, 6],\n",
              "        [7, 8, 9]])"
            ]
          },
          "metadata": {},
          "execution_count": 4
        }
      ]
    },
    {
      "cell_type": "code",
      "source": [
        "x[0,0]"
      ],
      "metadata": {
        "colab": {
          "base_uri": "https://localhost:8080/"
        },
        "id": "yZisb9M6AAZx",
        "outputId": "c80ccb4b-cb00-44bd-a142-35ac50be04c3"
      },
      "execution_count": null,
      "outputs": [
        {
          "output_type": "execute_result",
          "data": {
            "text/plain": [
              "tensor([1, 2, 3])"
            ]
          },
          "metadata": {},
          "execution_count": 5
        }
      ]
    },
    {
      "cell_type": "code",
      "source": [
        "x[0,0,0]"
      ],
      "metadata": {
        "colab": {
          "base_uri": "https://localhost:8080/"
        },
        "id": "_Vyf4Rv2AD6R",
        "outputId": "a5f21317-9220-4a12-847c-bbca76ec46bb"
      },
      "execution_count": null,
      "outputs": [
        {
          "output_type": "execute_result",
          "data": {
            "text/plain": [
              "tensor(1)"
            ]
          },
          "metadata": {},
          "execution_count": 6
        }
      ]
    },
    {
      "cell_type": "code",
      "source": [
        "#Changing index \n",
        "x[0,1] = 2\n",
        "x"
      ],
      "metadata": {
        "colab": {
          "base_uri": "https://localhost:8080/"
        },
        "id": "3OkUdk4wAIXI",
        "outputId": "bea60634-3ade-4821-b2f6-3b7702065843"
      },
      "execution_count": null,
      "outputs": [
        {
          "output_type": "execute_result",
          "data": {
            "text/plain": [
              "tensor([[[1, 2, 3],\n",
              "         [2, 2, 2],\n",
              "         [7, 8, 9]]])"
            ]
          },
          "metadata": {},
          "execution_count": 74
        }
      ]
    },
    {
      "cell_type": "code",
      "source": [
        "# you can also use \":\" to select \"all\" of a target dimentions\n",
        "x[:,0]=2\n",
        "x"
      ],
      "metadata": {
        "colab": {
          "base_uri": "https://localhost:8080/"
        },
        "id": "VbjKEU81BPUw",
        "outputId": "fd9f2891-6ce4-4887-cece-b87c2a110e65"
      },
      "execution_count": null,
      "outputs": [
        {
          "output_type": "execute_result",
          "data": {
            "text/plain": [
              "tensor([[[2, 2, 2],\n",
              "         [4, 5, 6],\n",
              "         [7, 8, 9]]])"
            ]
          },
          "metadata": {},
          "execution_count": 78
        }
      ]
    },
    {
      "cell_type": "code",
      "source": [
        "# Gett all values of 0th dimentions but only index 1 of 2nd dimention\n",
        "x[:,:,1]"
      ],
      "metadata": {
        "colab": {
          "base_uri": "https://localhost:8080/"
        },
        "id": "KRAmnKvSBlSg",
        "outputId": "eb3cb481-5ae7-421e-80ba-205a28437f5e"
      },
      "execution_count": null,
      "outputs": [
        {
          "output_type": "execute_result",
          "data": {
            "text/plain": [
              "tensor([[2, 5, 8]])"
            ]
          },
          "metadata": {},
          "execution_count": 7
        }
      ]
    },
    {
      "cell_type": "code",
      "source": [
        "x[:,:,2]"
      ],
      "metadata": {
        "colab": {
          "base_uri": "https://localhost:8080/"
        },
        "id": "XZ14js1uVNgj",
        "outputId": "cd136474-8a86-4415-b504-e101acf266a3"
      },
      "execution_count": null,
      "outputs": [
        {
          "output_type": "execute_result",
          "data": {
            "text/plain": [
              "tensor([[3, 6, 9]])"
            ]
          },
          "metadata": {},
          "execution_count": 10
        }
      ]
    },
    {
      "cell_type": "code",
      "source": [
        "#Pytorch tensors && Numpy\n"
      ],
      "metadata": {
        "id": "fMA--AoiWSUi"
      },
      "execution_count": null,
      "outputs": []
    },
    {
      "cell_type": "markdown",
      "source": [
        "Numpy is numerical computing library in python\n",
        "* Data in Numpy , Want in pytorch tensor -> 'torch.from_numpy(ndarray)'\n",
        "* Pytorch tensor -> Numpy -> torch.Tensor.numpy()"
      ],
      "metadata": {
        "id": "lMr2drYmWhx3"
      }
    },
    {
      "cell_type": "code",
      "source": [
        "#Numpy array to tensor\n",
        "import torch\n",
        "import numpy as np\n",
        "\n",
        "array = np.arange(1.0, 8.0)\n",
        "tensor = torch.from_numpy(array).type(torch.float32)\n",
        "#warning when converting from numpy -> pytorch , pytorch rflects numpy s default datatype to float 64\n",
        "array , tensor\n"
      ],
      "metadata": {
        "colab": {
          "base_uri": "https://localhost:8080/"
        },
        "id": "jV_pMUjQWsBO",
        "outputId": "da0e7abd-e850-426a-857d-885ae86d5543"
      },
      "execution_count": null,
      "outputs": [
        {
          "output_type": "execute_result",
          "data": {
            "text/plain": [
              "(array([1., 2., 3., 4., 5., 6., 7.]), tensor([1., 2., 3., 4., 5., 6., 7.]))"
            ]
          },
          "metadata": {},
          "execution_count": 2
        }
      ]
    },
    {
      "cell_type": "code",
      "source": [
        "array.dtype"
      ],
      "metadata": {
        "colab": {
          "base_uri": "https://localhost:8080/"
        },
        "id": "PbssmYPtYZcY",
        "outputId": "9ecc6ff8-81f9-4a49-e824-7ae0d2c5734d"
      },
      "execution_count": null,
      "outputs": [
        {
          "output_type": "execute_result",
          "data": {
            "text/plain": [
              "dtype('float64')"
            ]
          },
          "metadata": {},
          "execution_count": 24
        }
      ]
    },
    {
      "cell_type": "code",
      "source": [
        "tensor.dtype"
      ],
      "metadata": {
        "colab": {
          "base_uri": "https://localhost:8080/"
        },
        "id": "QowbLvl2YefW",
        "outputId": "09aed034-e494-4563-983a-7cf8ea21fa71"
      },
      "execution_count": null,
      "outputs": [
        {
          "output_type": "execute_result",
          "data": {
            "text/plain": [
              "torch.float32"
            ]
          },
          "metadata": {},
          "execution_count": 25
        }
      ]
    },
    {
      "cell_type": "code",
      "source": [
        "#change the value of array\n",
        "\n",
        "array = array + 1\n",
        "\n",
        "array , tensor\n"
      ],
      "metadata": {
        "colab": {
          "base_uri": "https://localhost:8080/"
        },
        "id": "jY4aocmaZmrl",
        "outputId": "5d594686-2b00-4870-8712-41ffd3ac0735"
      },
      "execution_count": null,
      "outputs": [
        {
          "output_type": "execute_result",
          "data": {
            "text/plain": [
              "(array([2., 3., 4., 5., 6., 7., 8.]), tensor([1., 2., 3., 4., 5., 6., 7.]))"
            ]
          },
          "metadata": {},
          "execution_count": 26
        }
      ]
    },
    {
      "cell_type": "code",
      "source": [
        "# Tensor to Numpy array\n",
        "\n",
        "tensor = torch.ones(7)\n",
        "numpy_tensor = tensor.numpy()\n",
        "tensor , numpy_tensor\n"
      ],
      "metadata": {
        "colab": {
          "base_uri": "https://localhost:8080/"
        },
        "id": "00eOxV3uaOnv",
        "outputId": "13d5bded-ff55-4396-8c01-223c2c99e1d9"
      },
      "execution_count": null,
      "outputs": [
        {
          "output_type": "execute_result",
          "data": {
            "text/plain": [
              "(tensor([1., 1., 1., 1., 1., 1., 1.]),\n",
              " array([1., 1., 1., 1., 1., 1., 1.], dtype=float32))"
            ]
          },
          "metadata": {},
          "execution_count": 31
        }
      ]
    },
    {
      "cell_type": "code",
      "source": [
        "# change the value of tensor \n",
        "tensor = tensor +1\n",
        "tensor , numpy_tensor"
      ],
      "metadata": {
        "colab": {
          "base_uri": "https://localhost:8080/"
        },
        "id": "MBGnXrtEa95C",
        "outputId": "c9fe2fda-1062-4233-c2a6-e1d1493b90b2"
      },
      "execution_count": null,
      "outputs": [
        {
          "output_type": "execute_result",
          "data": {
            "text/plain": [
              "(tensor([2., 2., 2., 2., 2., 2., 2.]),\n",
              " array([1., 1., 1., 1., 1., 1., 1.], dtype=float32))"
            ]
          },
          "metadata": {},
          "execution_count": 32
        }
      ]
    },
    {
      "cell_type": "code",
      "source": [
        " #random in neural networks\n",
        "\n",
        "torch.rand(3, 3)\n"
      ],
      "metadata": {
        "colab": {
          "base_uri": "https://localhost:8080/"
        },
        "id": "uIu0-Tlpb3gC",
        "outputId": "e5d3082d-2b6d-46f9-d860-83c8d3d11537"
      },
      "execution_count": null,
      "outputs": [
        {
          "output_type": "execute_result",
          "data": {
            "text/plain": [
              "tensor([[0.3289, 0.7533, 0.0780],\n",
              "        [0.8922, 0.8814, 0.9561],\n",
              "        [0.4983, 0.5858, 0.2260]])"
            ]
          },
          "metadata": {},
          "execution_count": 7
        }
      ]
    },
    {
      "cell_type": "code",
      "source": [
        "#to reduce the randomness\n",
        "\n",
        "import torch\n",
        "\n",
        "random1 =  torch.rand(3,4)\n",
        "random2 =  torch.rand(3,4)\n",
        "\n",
        "print(random1)\n",
        "print(random2)\n",
        "print(random1 == random2)"
      ],
      "metadata": {
        "colab": {
          "base_uri": "https://localhost:8080/"
        },
        "id": "Q3lMmYmudc2s",
        "outputId": "dd2542af-4626-4554-9077-d086ef05deb1"
      },
      "execution_count": null,
      "outputs": [
        {
          "output_type": "stream",
          "name": "stdout",
          "text": [
            "tensor([[0.2717, 0.4412, 0.6021, 0.0097],\n",
            "        [0.8714, 0.1693, 0.1106, 0.4424],\n",
            "        [0.8026, 0.2708, 0.2153, 0.6208]])\n",
            "tensor([[0.0329, 0.1659, 0.3566, 0.7377],\n",
            "        [0.8702, 0.1430, 0.4212, 0.4178],\n",
            "        [0.1727, 0.5044, 0.6348, 0.0654]])\n",
            "tensor([[False, False, False, False],\n",
            "        [False, False, False, False],\n",
            "        [False, False, False, False]])\n"
          ]
        }
      ]
    },
    {
      "cell_type": "code",
      "source": [
        "#making some randome but producable tensors\n",
        "\n",
        "#set the random seeds\n",
        "\n",
        "random_seed = 0\n",
        "torch.manual_seed(random_seed) # to fix the randomness\n",
        "random_tensor1 = torch.rand(3, 4)\n",
        "\n",
        "torch.manual_seed(random_seed)\n",
        "random_tensor2 = torch.rand(3, 4)\n",
        "\n",
        "print(random_tensor1)\n",
        "print(random_tensor2)\n",
        "print(random_tensor1 == random_tensor2)"
      ],
      "metadata": {
        "id": "ebVSV5-6elo7",
        "colab": {
          "base_uri": "https://localhost:8080/"
        },
        "outputId": "b64ff996-18ba-4209-960f-224afdd41210"
      },
      "execution_count": null,
      "outputs": [
        {
          "output_type": "stream",
          "name": "stdout",
          "text": [
            "tensor([[0.4963, 0.7682, 0.0885, 0.1320],\n",
            "        [0.3074, 0.6341, 0.4901, 0.8964],\n",
            "        [0.4556, 0.6323, 0.3489, 0.4017]])\n",
            "tensor([[0.4963, 0.7682, 0.0885, 0.1320],\n",
            "        [0.3074, 0.6341, 0.4901, 0.8964],\n",
            "        [0.4556, 0.6323, 0.3489, 0.4017]])\n",
            "tensor([[True, True, True, True],\n",
            "        [True, True, True, True],\n",
            "        [True, True, True, True]])\n"
          ]
        }
      ]
    },
    {
      "cell_type": "code",
      "source": [
        "#Running tensors on GPU s\n",
        "\n",
        "#1. getting GPU\n",
        "\n",
        "# use google collabe for free GPU\n",
        "\n",
        "!nvidia-smi"
      ],
      "metadata": {
        "colab": {
          "base_uri": "https://localhost:8080/"
        },
        "id": "Yd9zeHUcc_8h",
        "outputId": "ba385cd3-ef60-4140-aeed-b6988c7ebe58"
      },
      "execution_count": null,
      "outputs": [
        {
          "output_type": "stream",
          "name": "stdout",
          "text": [
            "Sat Mar 18 21:08:13 2023       \n",
            "+-----------------------------------------------------------------------------+\n",
            "| NVIDIA-SMI 525.85.12    Driver Version: 525.85.12    CUDA Version: 12.0     |\n",
            "|-------------------------------+----------------------+----------------------+\n",
            "| GPU  Name        Persistence-M| Bus-Id        Disp.A | Volatile Uncorr. ECC |\n",
            "| Fan  Temp  Perf  Pwr:Usage/Cap|         Memory-Usage | GPU-Util  Compute M. |\n",
            "|                               |                      |               MIG M. |\n",
            "|===============================+======================+======================|\n",
            "|   0  Tesla T4            Off  | 00000000:00:04.0 Off |                    0 |\n",
            "| N/A   67C    P0    31W /  70W |      3MiB / 15360MiB |      0%      Default |\n",
            "|                               |                      |                  N/A |\n",
            "+-------------------------------+----------------------+----------------------+\n",
            "                                                                               \n",
            "+-----------------------------------------------------------------------------+\n",
            "| Processes:                                                                  |\n",
            "|  GPU   GI   CI        PID   Type   Process name                  GPU Memory |\n",
            "|        ID   ID                                                   Usage      |\n",
            "|=============================================================================|\n",
            "|  No running processes found                                                 |\n",
            "+-----------------------------------------------------------------------------+\n"
          ]
        }
      ]
    },
    {
      "cell_type": "code",
      "source": [
        "# check for GPU access Pytorch\n",
        "import torch\n",
        "torch.cuda.is_available()\n",
        "\n"
      ],
      "metadata": {
        "colab": {
          "base_uri": "https://localhost:8080/"
        },
        "id": "kgn8zM0ye96Q",
        "outputId": "9ab23d40-cc40-429f-943e-bfe922bdf654"
      },
      "execution_count": null,
      "outputs": [
        {
          "output_type": "execute_result",
          "data": {
            "text/plain": [
              "True"
            ]
          },
          "metadata": {},
          "execution_count": 4
        }
      ]
    },
    {
      "cell_type": "code",
      "source": [
        "# Setup device agnostic code\n",
        "device = \"cuda\" if torch.cuda.is_available() else \"cpu\"\n",
        "device"
      ],
      "metadata": {
        "colab": {
          "base_uri": "https://localhost:8080/",
          "height": 35
        },
        "id": "3VaGx1B8ff9i",
        "outputId": "7cbbc6d1-0b52-447a-c69d-b70c615e8e06"
      },
      "execution_count": null,
      "outputs": [
        {
          "output_type": "execute_result",
          "data": {
            "text/plain": [
              "'cuda'"
            ],
            "application/vnd.google.colaboratory.intrinsic+json": {
              "type": "string"
            }
          },
          "metadata": {},
          "execution_count": 2
        }
      ]
    },
    {
      "cell_type": "code",
      "source": [
        "#count number of devices\n",
        "torch.cuda.device_count()"
      ],
      "metadata": {
        "colab": {
          "base_uri": "https://localhost:8080/"
        },
        "id": "yzIdps6jf8X9",
        "outputId": "ce9c52e3-dff2-4844-a4f1-5488d704d1fd"
      },
      "execution_count": null,
      "outputs": [
        {
          "output_type": "execute_result",
          "data": {
            "text/plain": [
              "1"
            ]
          },
          "metadata": {},
          "execution_count": 4
        }
      ]
    },
    {
      "cell_type": "code",
      "source": [
        "# putting tensors and models on the GPU\n",
        "\n",
        "tensor = torch.tensor([1,2,3])\n",
        "\n",
        "print(tensor,tensor.device)"
      ],
      "metadata": {
        "colab": {
          "base_uri": "https://localhost:8080/"
        },
        "id": "IZcT4R8DgLO0",
        "outputId": "a96c2d6d-2d7f-4ece-ebd3-68fcb9580768"
      },
      "execution_count": null,
      "outputs": [
        {
          "output_type": "stream",
          "name": "stdout",
          "text": [
            "tensor([1, 2, 3]) cpu\n"
          ]
        }
      ]
    },
    {
      "cell_type": "code",
      "source": [
        "# move tensor to GPU if available\n",
        "\n",
        "tensor_on_GPU = tensor.to(device)\n",
        "tensor_on_GPU"
      ],
      "metadata": {
        "colab": {
          "base_uri": "https://localhost:8080/"
        },
        "id": "3sZdqKxRhSdT",
        "outputId": "a80f8524-9d55-4cbf-9e07-946805065aa3"
      },
      "execution_count": null,
      "outputs": [
        {
          "output_type": "execute_result",
          "data": {
            "text/plain": [
              "tensor([1, 2, 3], device='cuda:0')"
            ]
          },
          "metadata": {},
          "execution_count": 8
        }
      ]
    },
    {
      "cell_type": "code",
      "source": [
        "# moving tensors back to the cpu\n",
        "\n",
        "#if tensors are on the GPU we can t transform to Numpy\n",
        "tensor_on_GPU.numpy()"
      ],
      "metadata": {
        "colab": {
          "base_uri": "https://localhost:8080/",
          "height": 217
        },
        "id": "HFhRGkk-hvxd",
        "outputId": "8d49ecf8-5ed6-4ce2-b28a-bfcb6d8a3d38"
      },
      "execution_count": null,
      "outputs": [
        {
          "output_type": "error",
          "ename": "TypeError",
          "evalue": "ignored",
          "traceback": [
            "\u001b[0;31m---------------------------------------------------------------------------\u001b[0m",
            "\u001b[0;31mTypeError\u001b[0m                                 Traceback (most recent call last)",
            "\u001b[0;32m<ipython-input-15-1f76a053e596>\u001b[0m in \u001b[0;36m<module>\u001b[0;34m\u001b[0m\n\u001b[1;32m      2\u001b[0m \u001b[0;34m\u001b[0m\u001b[0m\n\u001b[1;32m      3\u001b[0m \u001b[0;31m#if tensors are on the GPU we can t transform to Numpy\u001b[0m\u001b[0;34m\u001b[0m\u001b[0;34m\u001b[0m\u001b[0m\n\u001b[0;32m----> 4\u001b[0;31m \u001b[0mtensor_on_GPU\u001b[0m\u001b[0;34m.\u001b[0m\u001b[0mnumpy\u001b[0m\u001b[0;34m(\u001b[0m\u001b[0;34m)\u001b[0m\u001b[0;34m\u001b[0m\u001b[0;34m\u001b[0m\u001b[0m\n\u001b[0m",
            "\u001b[0;31mTypeError\u001b[0m: can't convert cuda:0 device type tensor to numpy. Use Tensor.cpu() to copy the tensor to host memory first."
          ]
        }
      ]
    },
    {
      "cell_type": "code",
      "source": [
        "# to fix it we set it first to the cpu\n",
        "\n",
        "tensor_back_on_CPU = tensor_on_GPU.cpu().numpy()\n",
        "tensor_back_on_CPU"
      ],
      "metadata": {
        "colab": {
          "base_uri": "https://localhost:8080/"
        },
        "id": "HjdnlIWyifQP",
        "outputId": "18596e3d-e9bb-4721-e36c-d5910539cd8d"
      },
      "execution_count": null,
      "outputs": [
        {
          "output_type": "execute_result",
          "data": {
            "text/plain": [
              "array([1, 2, 3])"
            ]
          },
          "metadata": {},
          "execution_count": 9
        }
      ]
    },
    {
      "cell_type": "code",
      "source": [
        "tensor_on_GPU"
      ],
      "metadata": {
        "colab": {
          "base_uri": "https://localhost:8080/"
        },
        "id": "02H1yakKi6lz",
        "outputId": "6f180bb1-0275-4c45-d1b7-39cab2bc4fd9"
      },
      "execution_count": null,
      "outputs": [
        {
          "output_type": "execute_result",
          "data": {
            "text/plain": [
              "tensor([1, 2, 3], device='cuda:0')"
            ]
          },
          "metadata": {},
          "execution_count": 17
        }
      ]
    },
    {
      "cell_type": "code",
      "source": [
        "# EXERCICES\n",
        "\n",
        "tensor = torch.rand([7 ,7])\n",
        "\n",
        "tensor1 = torch.rand([7 , 1])\n",
        "tensor , tensor1"
      ],
      "metadata": {
        "colab": {
          "base_uri": "https://localhost:8080/"
        },
        "id": "9_SLPiIZn56F",
        "outputId": "75d8d060-494a-4281-a712-f56528d0a222"
      },
      "execution_count": null,
      "outputs": [
        {
          "output_type": "execute_result",
          "data": {
            "text/plain": [
              "(tensor([[0.8719, 0.3419, 0.4765, 0.8277, 0.8240, 0.4632, 0.9399],\n",
              "         [0.5137, 0.6325, 0.5086, 0.8740, 0.2669, 0.5713, 0.4915],\n",
              "         [0.5203, 0.5797, 0.1095, 0.4481, 0.7299, 0.3923, 0.7946],\n",
              "         [0.0974, 0.0175, 0.4711, 0.9799, 0.1929, 0.5352, 0.2786],\n",
              "         [0.9135, 0.3820, 0.2492, 0.3045, 0.6927, 0.8004, 0.6620],\n",
              "         [0.1004, 0.9946, 0.2981, 0.6582, 0.1200, 0.3667, 0.3211],\n",
              "         [0.6610, 0.6949, 0.5942, 0.6133, 0.1046, 0.5059, 0.0626]]),\n",
              " tensor([[0.0685],\n",
              "         [0.2262],\n",
              "         [0.4684],\n",
              "         [0.9764],\n",
              "         [0.9941],\n",
              "         [0.6571],\n",
              "         [0.0833]]))"
            ]
          },
          "metadata": {},
          "execution_count": 5
        }
      ]
    },
    {
      "cell_type": "code",
      "source": [
        "tensor @ tensor1"
      ],
      "metadata": {
        "colab": {
          "base_uri": "https://localhost:8080/"
        },
        "id": "H3WJCb2eo5Gm",
        "outputId": "dcdb0fd8-ac91-41e8-8f44-edcf54731fd6"
      },
      "execution_count": null,
      "outputs": [
        {
          "output_type": "execute_result",
          "data": {
            "text/plain": [
              "tensor([[2.3702],\n",
              "        [1.9515],\n",
              "        [1.7051],\n",
              "        [1.7547],\n",
              "        [1.8327],\n",
              "        [1.4011],\n",
              "        [1.5211]])"
            ]
          },
          "metadata": {},
          "execution_count": 6
        }
      ]
    },
    {
      "cell_type": "code",
      "source": [
        "Random_seed = 0\n",
        "torch.manual_seed(Random_seed)\n",
        "rtensor1 = torch.rand([ 7 , 7])\n",
        "Random_seed = 0\n",
        "torch.manual_seed(Random_seed)\n",
        "rtensor2 = torch.rand([ 7 , 1])\n",
        "print(rtensor1)\n",
        "print(rtensor2)\n",
        "print(rtensor1[0] == rtensor2[: , 0])"
      ],
      "metadata": {
        "colab": {
          "base_uri": "https://localhost:8080/"
        },
        "id": "TV6PFIXsNzai",
        "outputId": "b8beabc0-8132-493a-bb51-eedeef3568fc"
      },
      "execution_count": null,
      "outputs": [
        {
          "output_type": "stream",
          "name": "stdout",
          "text": [
            "tensor([[0.4963, 0.7682, 0.0885, 0.1320, 0.3074, 0.6341, 0.4901],\n",
            "        [0.8964, 0.4556, 0.6323, 0.3489, 0.4017, 0.0223, 0.1689],\n",
            "        [0.2939, 0.5185, 0.6977, 0.8000, 0.1610, 0.2823, 0.6816],\n",
            "        [0.9152, 0.3971, 0.8742, 0.4194, 0.5529, 0.9527, 0.0362],\n",
            "        [0.1852, 0.3734, 0.3051, 0.9320, 0.1759, 0.2698, 0.1507],\n",
            "        [0.0317, 0.2081, 0.9298, 0.7231, 0.7423, 0.5263, 0.2437],\n",
            "        [0.5846, 0.0332, 0.1387, 0.2422, 0.8155, 0.7932, 0.2783]])\n",
            "tensor([[0.4963],\n",
            "        [0.7682],\n",
            "        [0.0885],\n",
            "        [0.1320],\n",
            "        [0.3074],\n",
            "        [0.6341],\n",
            "        [0.4901]])\n",
            "tensor([True, True, True, True, True, True, True])\n"
          ]
        }
      ]
    },
    {
      "cell_type": "code",
      "source": [
        "torch.cuda.manual_seed(1234)"
      ],
      "metadata": {
        "id": "tT21c-qfPJIE"
      },
      "execution_count": null,
      "outputs": []
    },
    {
      "cell_type": "code",
      "source": [
        "torch.cuda.is_available()"
      ],
      "metadata": {
        "colab": {
          "base_uri": "https://localhost:8080/"
        },
        "id": "CeI9njhIQmjg",
        "outputId": "3d855962-87b6-47ae-8347-62f6513c6059"
      },
      "execution_count": null,
      "outputs": [
        {
          "output_type": "execute_result",
          "data": {
            "text/plain": [
              "True"
            ]
          },
          "metadata": {},
          "execution_count": 15
        }
      ]
    },
    {
      "cell_type": "code",
      "source": [
        "device = \"cuda\" if torch.cuda.is_available() else \"CPU\"\n",
        "device"
      ],
      "metadata": {
        "colab": {
          "base_uri": "https://localhost:8080/",
          "height": 35
        },
        "id": "5UasJeCxQ3Ne",
        "outputId": "4ed918c2-62d8-4a2b-e103-0aa667ae9162"
      },
      "execution_count": null,
      "outputs": [
        {
          "output_type": "execute_result",
          "data": {
            "text/plain": [
              "'cuda'"
            ],
            "application/vnd.google.colaboratory.intrinsic+json": {
              "type": "string"
            }
          },
          "metadata": {},
          "execution_count": 9
        }
      ]
    },
    {
      "cell_type": "code",
      "source": [
        "tensor1 = torch.rand(size=( 2 , 3)).to(device)\n",
        "tensor2 = torch.rand(size=( 2 , 3)).to(device)\n",
        "\n",
        "print(tensor1,device)\n",
        "print(tensor2,device)"
      ],
      "metadata": {
        "colab": {
          "base_uri": "https://localhost:8080/"
        },
        "id": "MEJlLu_iRDfD",
        "outputId": "e9523f79-5e46-4b0f-d425-72c3d2e16447"
      },
      "execution_count": null,
      "outputs": [
        {
          "output_type": "stream",
          "name": "stdout",
          "text": [
            "tensor([[0.8964, 0.4556, 0.6323],\n",
            "        [0.3489, 0.4017, 0.0223]], device='cuda:0') cuda\n",
            "tensor([[0.1689, 0.2939, 0.5185],\n",
            "        [0.6977, 0.8000, 0.1610]], device='cuda:0') cuda\n"
          ]
        }
      ]
    },
    {
      "cell_type": "code",
      "source": [
        "tensor1 @ tensor2.T"
      ],
      "metadata": {
        "colab": {
          "base_uri": "https://localhost:8080/"
        },
        "id": "4MdFZYOT4W1I",
        "outputId": "e8c2d2cd-8343-4b93-9dc3-c79943eeb1a9"
      },
      "execution_count": null,
      "outputs": [
        {
          "output_type": "execute_result",
          "data": {
            "text/plain": [
              "tensor([[0.6131, 1.0917],\n",
              "        [0.1886, 0.5684]], device='cuda:0')"
            ]
          },
          "metadata": {},
          "execution_count": 12
        }
      ]
    },
    {
      "cell_type": "code",
      "source": [
        "max = torch.max(tensor1 @ tensor2.T)\n",
        "min = torch.min(tensor1 @ tensor2.T)\n",
        "print(max)\n",
        "print(min)"
      ],
      "metadata": {
        "colab": {
          "base_uri": "https://localhost:8080/"
        },
        "id": "K3zwKPMT49_b",
        "outputId": "e0cf574e-387b-4d9d-bed0-39e184a13780"
      },
      "execution_count": null,
      "outputs": [
        {
          "output_type": "stream",
          "name": "stdout",
          "text": [
            "tensor(1.0917, device='cuda:0')\n",
            "tensor(0.1886, device='cuda:0')\n"
          ]
        }
      ]
    },
    {
      "cell_type": "code",
      "source": [
        "torch.manual_seed(7)\n",
        "\n",
        "tensor3 = torch.rand(size=(1,1,1,10))\n",
        "tensor3.squeeze()"
      ],
      "metadata": {
        "colab": {
          "base_uri": "https://localhost:8080/"
        },
        "id": "QLfkyWNX5cD2",
        "outputId": "fa78eaa3-cf71-4d14-9369-80f680173566"
      },
      "execution_count": null,
      "outputs": [
        {
          "output_type": "execute_result",
          "data": {
            "text/plain": [
              "tensor([0.5349, 0.1988, 0.6592, 0.6569, 0.2328, 0.4251, 0.2071, 0.6297, 0.3653,\n",
              "        0.8513])"
            ]
          },
          "metadata": {},
          "execution_count": 19
        }
      ]
    },
    {
      "cell_type": "markdown",
      "source": [],
      "metadata": {
        "id": "qZVj9_sDn5S6"
      }
    }
  ]
}